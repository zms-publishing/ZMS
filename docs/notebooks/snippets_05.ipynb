{
 "cells": [
  {
   "attachments": {},
   "cell_type": "markdown",
   "metadata": {},
   "source": [
    "# Ingest APIs with `opensearch-py`\n",
    "\n",
    "https://opensearch.org/docs/latest/api-reference/ingest-apis/index/"
   ]
  },
  {
   "cell_type": "code",
   "execution_count": 1,
   "metadata": {},
   "outputs": [],
   "source": [
    "import opensearchpy\n",
    "from opensearchpy import OpenSearch\n",
    "import json"
   ]
  },
  {
   "cell_type": "code",
   "execution_count": 2,
   "metadata": {},
   "outputs": [],
   "source": [
    "# Connecting to OpenSearch\n",
    "# https://opensearch.org/docs/latest/clients/python-low-level/#connecting-to-opensearch\n",
    "\n",
    "host = 'localhost'\n",
    "port = 9200\n",
    "auth = ('admin', 'admin') # For testing only. Don't store credentials in code.\n",
    "\n",
    "# Create the client with SSL/TLS enabled, but hostname verification disabled.\n",
    "client = OpenSearch(\n",
    "    hosts = [{'host': host, 'port': port}],\n",
    "    http_compress = False, # enables gzip compression for request bodies\n",
    "    http_auth = auth,\n",
    "    use_ssl = True,\n",
    "    verify_certs = False,\n",
    "    ssl_assert_hostname = False,\n",
    "    ssl_show_warn = False,\n",
    ")"
   ]
  },
  {
   "cell_type": "code",
   "execution_count": 3,
   "metadata": {},
   "outputs": [
    {
     "name": "stdout",
     "output_type": "stream",
     "text": [
      "{\n",
      "  \"acknowledged\": true,\n",
      "  \"shards_acknowledged\": true,\n",
      "  \"index\": \"python-test-index\"\n",
      "}\n"
     ]
    }
   ],
   "source": [
    "# Creating a pipline\n",
    "# https://opensearch.org/docs/latest/api-reference/ingest-apis/create-update-ingest/\n",
    "# https://kb.objectrocket.com/elasticsearch/how-to-use-the-attachment-plugin-to-index-files-in-elasticsearch-271\n",
    "\n",
    "pl_id = 'unibe_pipeline'\n",
    "pl_create_body = {\n",
    "  \"description\" : \"Field for processing file attachments\",\n",
    "  \"processors\" : [\n",
    "    {\n",
    "      \"attachment\" : {\n",
    "        \"field\": \"data\",\n",
    "        \"value\": \"value\"\n",
    "      }\n",
    "    }\n",
    "  ]\n",
    "}\n",
    "\n",
    "\n",
    "try:\n",
    "  response = client.indices.create(index_name, body=index_body)\n",
    "except opensearchpy.exceptions.RequestError as e:\n",
    "  if 'resource_already_exists_exception' != e.error:\n",
    "    raise\n",
    "  else:\n",
    "    client.indices.delete(index_name)\n",
    "    response = client.indices.create(index_name, body=index_body)\n",
    "\n",
    "print(json.dumps(response,indent=2))"
   ]
  }
 ],
 "metadata": {
  "kernelspec": {
   "display_name": "Python 3 (ipykernel)",
   "language": "python",
   "name": "python3"
  },
  "language_info": {
   "codemirror_mode": {
    "name": "ipython",
    "version": 3
   },
   "file_extension": ".py",
   "mimetype": "text/x-python",
   "name": "python",
   "nbconvert_exporter": "python",
   "pygments_lexer": "ipython3",
   "version": "3.8.13"
  }
 },
 "nbformat": 4,
 "nbformat_minor": 2
}
