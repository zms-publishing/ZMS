{
 "cells": [
  {
   "cell_type": "markdown",
   "metadata": {},
   "source": [
    "# Calendar Rendering with Python calendar module\n",
    "_Inspired by https://www.huiwenteo.com/normal/2018/07/24/django-calendar.html_\n",
    "\n",
    "NOTES: \n",
    "1. first install your OS locale pack, e.g. <br/> `sudo apt-get install language-pack-de-base`\n",
    "2. as an alternative to Zope's DateTime you can use dateutil for date parsing <br/> `import dateutil.parser as dparser`"
   ]
  },
  {
   "cell_type": "code",
   "execution_count": 87,
   "metadata": {},
   "outputs": [
    {
     "data": {
      "text/plain": [
       "'de_DE.UTF-8'"
      ]
     },
     "execution_count": 87,
     "metadata": {},
     "output_type": "execute_result"
    }
   ],
   "source": [
    "import IPython\n",
    "from datetime import datetime, timedelta\n",
    "from DateTime import DateTime \n",
    "from calendar import HTMLCalendar\n",
    "import locale\n",
    "locale.setlocale(locale.LC_ALL, 'de_DE.UTF-8')"
   ]
  },
  {
   "cell_type": "code",
   "execution_count": 93,
   "metadata": {},
   "outputs": [],
   "source": [
    "### SOME TESTS SNIPPETS\n",
    "# print(DateTime('2022-05-21 10:00').asdatetime() - DateTime('2022-05-18 15:45').asdatetime() )\n",
    "# print(DateTime('18.05.2022 15:00').asdatetime().date())\n",
    "# htmlcal = HTMLCalendar()\n",
    "# print(htmlcal.formatmonth(2022, 5))\n",
    "# IPython.display.HTML(htmlcal.formatmonth(2022, 5))\n"
   ]
  },
  {
   "cell_type": "code",
   "execution_count": 94,
   "metadata": {},
   "outputs": [],
   "source": [
    "events = [\n",
    "\t{\n",
    "\t\t'start_time':'2022-05-18 15:00',\n",
    "\t\t'end_time':'2022-05-18 18:00',\n",
    "\t\t'title':'A. Exam of Economics 1st Semester Part 1',\n",
    "\t\t'description':'Its gonna be hard, but not impossible',\n",
    "\t},\n",
    "\t{\n",
    "\t\t'start_time':'2022-05-20 15:00',\n",
    "\t\t'end_time':'2022-05-20 18:00',\n",
    "\t\t'title':'B. Exam of Economics 1st Semester Part 2',\n",
    "\t\t'description':'Its gonna be hard and almost impossible',\n",
    "\t},\n",
    "\t{\n",
    "\t\t'start_time':'2022-05-20 19:00',\n",
    "\t\t'end_time':'2022-05-20 21:00',\n",
    "\t\t'title':'C. Exam of Economics 1st Semester Part 3',\n",
    "\t\t'description':'Its gonna be hard and definitly impossible',\n",
    "\t},\n",
    "]\n",
    "\n",
    "\n",
    "# HELPERS\n",
    "def parse_dt(s='2022-05-20 18:00'):\n",
    "\treturn DateTime(s).asdatetime().date()\n",
    "\n",
    "def filter_events_by_date(events, year, month, day):\n",
    "\tthis_dt = datetime(year, month, day).date()\n",
    "\treturn [e for e in events if parse_dt(e.get('start_time',''))==this_dt]\n",
    "\n",
    "def add_tags(tag,text):\n",
    "\treturn '<%s title=\"%s\">%s</%s>'%(tag,text,text,tag)"
   ]
  },
  {
   "cell_type": "code",
   "execution_count": 95,
   "metadata": {},
   "outputs": [],
   "source": [
    "class Calendar(HTMLCalendar):\n",
    "\tdef __init__(self, year=None, month=None, events=[]):\n",
    "\t\tself.year = year\n",
    "\t\tself.month = month\n",
    "\t\tself.events = events\n",
    "\t\tsuper(Calendar, self).__init__()\n",
    "\n",
    "\t# formats a day as a td\n",
    "\t# filter events by day\n",
    "\tdef formatday(self, day, weekday):\n",
    "\t\t\"\"\"\n",
    "\t\tReturn a day as a table cell.\n",
    "\t\t\"\"\"\n",
    "\t\tif day == 0:\n",
    "\t\t\t# day outside month\n",
    "\t\t\treturn '<td class=\"%s\">&nbsp;</td>' % (self.cssclass_noday)\n",
    "\t\telse:\n",
    "\t\t\tevents_dt = filter_events_by_date(events, self.year, self.month, day)\n",
    "\t\t\tevents_titles = [e.get('title','') for e in events_dt]\n",
    "\t\t\ts = '\\n'.join([add_tags('p',e) for e in events_titles])\n",
    "\t\t\treturn '<td class=\"%s\">%d %s</td>' % (self.cssclasses[weekday], day, s)"
   ]
  },
  {
   "cell_type": "code",
   "execution_count": 96,
   "metadata": {},
   "outputs": [
    {
     "data": {
      "text/html": [
       "<table border=\"0\" cellpadding=\"0\" cellspacing=\"0\" class=\"month\">\n",
       "<tr><th colspan=\"7\" class=\"month\">Mai 2022</th></tr>\n",
       "<tr><th class=\"mon\">Mo</th><th class=\"tue\">Di</th><th class=\"wed\">Mi</th><th class=\"thu\">Do</th><th class=\"fri\">Fr</th><th class=\"sat\">Sa</th><th class=\"sun\">So</th></tr>\n",
       "<tr><td class=\"noday\">&nbsp;</td><td class=\"noday\">&nbsp;</td><td class=\"noday\">&nbsp;</td><td class=\"noday\">&nbsp;</td><td class=\"noday\">&nbsp;</td><td class=\"noday\">&nbsp;</td><td class=\"sun\">1 </td></tr>\n",
       "<tr><td class=\"mon\">2 </td><td class=\"tue\">3 </td><td class=\"wed\">4 </td><td class=\"thu\">5 </td><td class=\"fri\">6 </td><td class=\"sat\">7 </td><td class=\"sun\">8 </td></tr>\n",
       "<tr><td class=\"mon\">9 </td><td class=\"tue\">10 </td><td class=\"wed\">11 </td><td class=\"thu\">12 </td><td class=\"fri\">13 </td><td class=\"sat\">14 </td><td class=\"sun\">15 </td></tr>\n",
       "<tr><td class=\"mon\">16 </td><td class=\"tue\">17 </td><td class=\"wed\">18 <p title=\"A. Exam of Economics 1st Semester Part 1\">A. Exam of Economics 1st Semester Part 1</p></td><td class=\"thu\">19 </td><td class=\"fri\">20 <p title=\"B. Exam of Economics 1st Semester Part 2\">B. Exam of Economics 1st Semester Part 2</p>\n",
       "<p title=\"C. Exam of Economics 1st Semester Part 3\">C. Exam of Economics 1st Semester Part 3</p></td><td class=\"sat\">21 </td><td class=\"sun\">22 </td></tr>\n",
       "<tr><td class=\"mon\">23 </td><td class=\"tue\">24 </td><td class=\"wed\">25 </td><td class=\"thu\">26 </td><td class=\"fri\">27 </td><td class=\"sat\">28 </td><td class=\"sun\">29 </td></tr>\n",
       "<tr><td class=\"mon\">30 </td><td class=\"tue\">31 </td><td class=\"noday\">&nbsp;</td><td class=\"noday\">&nbsp;</td><td class=\"noday\">&nbsp;</td><td class=\"noday\">&nbsp;</td><td class=\"noday\">&nbsp;</td></tr>\n",
       "</table>\n",
       "\n",
       "\t<style>\n",
       "\t\ttable.month th,\n",
       "\t\ttable.month td {\n",
       "\t\t\tborder:1px solid silver !important;\n",
       "\t\t\tvertical-align:top;\n",
       "\t\t\twidth:6rem;\n",
       "\t\t}\n",
       "\t\t.month td p {\n",
       "\t\t\twidth:6rem;\n",
       "\t\t\twhite-space:nowrap;\n",
       "\t\t\toverflow:hidden;\n",
       "\t\t\ttext-overflow:ellipsis;\n",
       "\t\t\tcursor:pointer;\n",
       "\t\t\tline-height:1.25:\n",
       "\t\t\tmargin:0 !important;\n",
       "\t\t\tpadding:0 !important;\n",
       "\t\t\tborder-bottom:1px solid transparent;\n",
       "\t\t}\n",
       "\t\t.month td p:hover {\n",
       "\t\t\tborder-color:violet;\n",
       "\t\t}\n",
       "\t\t.month td p:hover:before {\n",
       "\t\t\tcontent:attr(title);\n",
       "\t\t\tposition:absolute;\n",
       "\t\t\tdisplay:block;\n",
       "\t\t\tbackground:violet;\n",
       "\t\t\tcolor:white;\n",
       "\t\t\tpadding:.35em .75em;\n",
       "\t\t\ttransform: translateY(-2.5em);\n",
       "\t\t\tbox-shadow:.35em .35em 2em #0003;\n",
       "\t\t}\n",
       "\t</style>\n"
      ],
      "text/plain": [
       "<IPython.core.display.HTML object>"
      ]
     },
     "execution_count": 96,
     "metadata": {},
     "output_type": "execute_result"
    }
   ],
   "source": [
    "css = '''\n",
    "\t<style>\n",
    "\t\ttable.month th,\n",
    "\t\ttable.month td {\n",
    "\t\t\tborder:1px solid silver !important;\n",
    "\t\t\tvertical-align:top;\n",
    "\t\t\twidth:6rem;\n",
    "\t\t}\n",
    "\t\t.month td p {\n",
    "\t\t\twidth:6rem;\n",
    "\t\t\twhite-space:nowrap;\n",
    "\t\t\toverflow:hidden;\n",
    "\t\t\ttext-overflow:ellipsis;\n",
    "\t\t\tcursor:pointer;\n",
    "\t\t\tline-height:1.25:\n",
    "\t\t\tmargin:0 !important;\n",
    "\t\t\tpadding:0 !important;\n",
    "\t\t\tborder-bottom:1px solid transparent;\n",
    "\t\t}\n",
    "\t\t.month td p:hover {\n",
    "\t\t\tborder-color:violet;\n",
    "\t\t}\n",
    "\t\t.month td p:hover:before {\n",
    "\t\t\tcontent:attr(title);\n",
    "\t\t\tposition:absolute;\n",
    "\t\t\tdisplay:block;\n",
    "\t\t\tbackground:violet;\n",
    "\t\t\tcolor:white;\n",
    "\t\t\tpadding:.35em .75em;\n",
    "\t\t\ttransform: translateY(-2.5em);\n",
    "\t\t\tbox-shadow:.35em .35em 2em #0003;\n",
    "\t\t}\n",
    "\t</style>\n",
    "'''\n",
    "\n",
    "htmlcal = Calendar(year=2022,month=5,events=events)\n",
    "IPython.display.HTML(htmlcal.formatmonth(htmlcal.year, htmlcal.month) +  css)"
   ]
  },
  {
   "cell_type": "code",
   "execution_count": 97,
   "metadata": {},
   "outputs": [
    {
     "data": {
      "text/plain": [
       "[{'start_time': '2022-05-20 15:00',\n",
       "  'end_time': '2022-05-20 18:00',\n",
       "  'title': 'B. Exam of Economics 1st Semester Part 2',\n",
       "  'description': 'Its gonna be hard and almost impossible'},\n",
       " {'start_time': '2022-05-20 19:00',\n",
       "  'end_time': '2022-05-20 21:00',\n",
       "  'title': 'C. Exam of Economics 1st Semester Part 3',\n",
       "  'description': 'Its gonna be hard and definitly impossible'}]"
      ]
     },
     "execution_count": 97,
     "metadata": {},
     "output_type": "execute_result"
    }
   ],
   "source": [
    "## TEST EVENT FILTER\n",
    "filter_events_by_date(events, 2022, 5, 20)"
   ]
  }
 ],
 "metadata": {
  "interpreter": {
   "hash": "09b598ff0e72718ab14b8f904c57db2c667c0c3d7580e9414081ecb307a95222"
  },
  "kernelspec": {
   "display_name": "Python 3.8.10 ('vpy38')",
   "language": "python",
   "name": "python3"
  },
  "language_info": {
   "codemirror_mode": {
    "name": "ipython",
    "version": 3
   },
   "file_extension": ".py",
   "mimetype": "text/x-python",
   "name": "python",
   "nbconvert_exporter": "python",
   "pygments_lexer": "ipython3",
   "version": "3.8.10"
  },
  "orig_nbformat": 2
 },
 "nbformat": 4,
 "nbformat_minor": 2
}
