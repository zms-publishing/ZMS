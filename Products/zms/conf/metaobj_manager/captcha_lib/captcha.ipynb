{
 "cells": [
  {
   "cell_type": "markdown",
   "metadata": {},
   "source": [
    "# Form Captcha with 4 Digits\n",
    "The notebook code provides two basic funktions for 1. creating an image from a string (using PIL) and 2. creating a hash value based on that string plus a secret string. The created image will be shown on an input form to verify that a user is a human and not a bot. Hash value and creation time will added as hidden fields to the form. The hash value can be used to verify the input string. The creation time can be used to set a time limit for the input."
   ]
  },
  {
   "cell_type": "markdown",
   "metadata": {},
   "source": [
    "## Functions"
   ]
  },
  {
   "cell_type": "code",
   "execution_count": 26,
   "metadata": {},
   "outputs": [],
   "source": [
    "from PIL import Image, ImageDraw, ImageFont\n",
    "import hashlib\n",
    "import random\n",
    "from datetime import datetime, timedelta\n",
    "import json\n",
    "import base64\n",
    "from io import BytesIO\n",
    "\n",
    "# GLOBAL CONSTANTS\n",
    "secret_key='uiwe#sdfj$%sdfj'\n",
    "life_time=600\n",
    "font_path = \"/usr/share/fonts/truetype/freefont/DejaVuSansMono-Bold.ttf\"\n",
    "\n",
    "# HELPER FUNCTIONS\n",
    "# [1] Create an image object from a given text of 4 digits\n",
    "def create_image(text):\n",
    "\t# create an image with the given text\n",
    "\timage = Image.new(\"RGB\", (100, 38), (0, 0, 0))\n",
    "\t# create a drawing object\n",
    "\tdraw = ImageDraw.Draw(image)\n",
    "\t# set the font of the text\n",
    "\tfont = ImageFont.truetype(font_path, 36)\n",
    "\t# draw the text on the image\n",
    "\tdraw.text((5, -3), text, font=font, fill=(255, 255, 255))\n",
    "\t# draw.line((0,8, 100,30), fill=(0,0,0), width=3)\n",
    "\t# draw.line((0,30, 80,0), fill=(255,255,255), width=3)\n",
    "\t# create a BytesIO object\n",
    "\tbuffered = BytesIO()\n",
    "\t# save image to the BytesIO object\n",
    "\timage.save(buffered, format=\"PNG\")\n",
    "\t# get the value of the BytesIO object\n",
    "\timage_bytes = buffered.getvalue()\n",
    "\timage_str = base64.b64encode(image_bytes).decode(\"utf-8\")\n",
    "\t# return data_uri\n",
    "\treturn f\"data:image/png;base64,{image_str}\"\n",
    "\n",
    "\n",
    "# [2] Create hash of a given string\n",
    "def encrypt_password(pw, algorithm='sha256', hex=False):\n",
    "\talgorithm = algorithm.lower()\n",
    "\talgorithm = algorithm=='sha-1' and 'sha1' or algorithm\n",
    "\tenc = None\n",
    "\tif algorithm in list(hashlib.algorithms_available):\n",
    "\t\th = hashlib.new(algorithm)\n",
    "\t\th.update(pw.encode())\n",
    "\t\tif hex:\n",
    "\t\t\tenc = h.hexdigest()\n",
    "\t\telse:\n",
    "\t\t\tenc = h.digest()\n",
    "\treturn enc\n",
    "\n",
    "# #############################\n",
    "# MAIN FUNCTIONS\n",
    "# ##############################\n",
    "# [A] Create Captcha with global constants:\n",
    "#\t@secret_key\n",
    "#\t@life_time\n",
    "def captcha_create(secret_key='uiwe#sdfj$%sdfj', life_time=600):\n",
    "\t# generate a random string\n",
    "\tcaptcha_str = str(random.randint(1000, 9999))\n",
    "\t# create a timestamp\n",
    "\ttimestamp_create = int(datetime.timestamp(datetime.now()) * 1000)\n",
    "\t# create a public key from the secret key and the captcha string\n",
    "\tsignature = encrypt_password(secret_key + captcha_str + str(timestamp_create), 'sha256', True)\n",
    "\t# create captcha image as data-uri\n",
    "\tcaptcha_data_uri = create_image(captcha_str)\n",
    "\n",
    "\t# create a dictionary to store the captcha data\n",
    "\tcaptcha_dict = {\n",
    "\t\t'signature': signature,\t\t\t\t\t\t# Used to validate the captcha\n",
    "\t\t'_captcha_str': captcha_str, \t\t\t\t# Private: to be entered by the user\n",
    "\t\t'timestamp_create': timestamp_create,\t\t# Used to validate the lifetime\n",
    "\t\t'life_time': life_time, \t\t\t\t\t# Needed to refresh the captcha after this time\n",
    "\t\t'captcha_data_uri': captcha_data_uri \t\t# Used to display the captcha image\n",
    "\t}\n",
    "\treturn captcha_dict\n",
    "\n",
    "# [B] Validate Captcha:\n",
    "#\t@signature: the public key of the captcha\n",
    "#\t@secret_key: the secret key of the captcha\n",
    "#\t@captcha_str: the captcha string entered by the user\n",
    "#\t@timestamp_create: the timestamp when the captcha was created\n",
    "#\t@life_time: the life time of the captcha\n",
    "def captcha_validate(signature, secret_key, captcha_str, timestamp_create, life_time):\n",
    "\tdt_create = datetime.utcfromtimestamp(float(timestamp_create) / 1e3)\n",
    "\tdt_receive = datetime.utcfromtimestamp((datetime.timestamp(datetime.now()) * 1000) / 1e3)\n",
    "\tis_intime = (dt_receive - dt_create).total_seconds() < life_time\n",
    "\tis_valid = signature == encrypt_password(secret_key + str(captcha_str) + str(timestamp_create), 'sha256', True)\n",
    "\treturn is_intime and is_valid\n"
   ]
  },
  {
   "cell_type": "markdown",
   "metadata": {},
   "source": [
    "## Create Captcha Image and Check Parameters"
   ]
  },
  {
   "cell_type": "code",
   "execution_count": 27,
   "metadata": {},
   "outputs": [
    {
     "name": "stdout",
     "output_type": "stream",
     "text": [
      "{\n",
      "    \"signature\": \"0461524b87f74f4feacd55fe146350e1b26a83f1fa4a9f782ab34c123a8d966c\",\n",
      "    \"_captcha_str\": \"5894\",\n",
      "    \"timestamp_create\": 1711462568158,\n",
      "    \"life_time\": 600,\n",
      "    \"captcha_data_uri\": \"data:image/png;base64,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\"\n",
      "}\n"
     ]
    }
   ],
   "source": [
    "# Create a captcha\n",
    "captcha_data = captcha_create(secret_key, life_time)\n",
    "# Create a JSON object from the captcha_dict\n",
    "captcha_data_json = json.dumps(captcha_data, indent=4)\n",
    "# Send the captcha_data_json to the client\n",
    "print(captcha_data_json)"
   ]
  },
  {
   "cell_type": "markdown",
   "metadata": {},
   "source": [
    "# Validate Captcha Check Parameters"
   ]
  },
  {
   "cell_type": "code",
   "execution_count": 28,
   "metadata": {},
   "outputs": [
    {
     "name": "stdout",
     "output_type": "stream",
     "text": [
      "Captcha is valid: True\n"
     ]
    }
   ],
   "source": [
    "# Get the json data from the client request\n",
    "\n",
    "req_data_json = \"\"\"{\n",
    "\t\"signature\": \"0461524b87f74f4feacd55fe146350e1b26a83f1fa4a9f782ab34c123a8d966c\",\n",
    "\t\"captcha_str\": \"5894\",\n",
    "\t\"timestamp_create\": 1711462568158\n",
    "}\"\"\"\n",
    "\n",
    "req_data = json.loads(req_data_json)\n",
    "\n",
    "# Validate the captcha\n",
    "captcha_is_valid = captcha_validate(req_data.get('signature'), secret_key, req_data.get('captcha_str'), req_data.get('timestamp_create'), life_time)\n",
    "print ('Captcha is valid:', captcha_is_valid)"
   ]
  },
  {
   "cell_type": "code",
   "execution_count": 185,
   "metadata": {},
   "outputs": [],
   "source": [
    "# ##############################\n",
    "# ZOPE-API-CALL captcha(create|validate)\n",
    "# ##############################\n",
    "def captcha_func(self, do):\n",
    "\ttry:\n",
    "\t\trequest = self.REQUEST\n",
    "\texcept:\n",
    "\t\trequest = {}\n",
    "\tif do == 'create':\n",
    "\t\t# Create a captcha\n",
    "\t\tcaptcha_data = captcha_create(secret_key, life_time)\n",
    "\t\t# Create a JSON object from the captcha_dict\n",
    "\t\tcaptcha_data_json = json.dumps(captcha_data, indent=4)\n",
    "\t\t# Send the captcha_data_json to the client\n",
    "\t\treturn captcha_data_json\n",
    "\telif do == 'validate':\n",
    "\t\treq_data = {}\n",
    "\t\t# Get the relevant captcha data from the client request\n",
    "\t\tfor k in ['signature','captcha_str','timestamp_create']:\n",
    "\t\t\treq_data[k] = request.get(k,0)\n",
    "\t\t# Validate the captcha data\n",
    "\t\tcaptcha_is_valid = captcha_validate(req_data.get('signature'), secret_key, req_data.get('captcha_str'), req_data.get('timestamp_create'), life_time)\n",
    "\t\treturn captcha_is_valid and json.dumps({'captcha_is_valid':True}) or json.dumps({'captcha_is_valid':False})\n"
   ]
  },
  {
   "cell_type": "code",
   "execution_count": 190,
   "metadata": {},
   "outputs": [
    {
     "name": "stdout",
     "output_type": "stream",
     "text": [
      "{\"captcha_is_valid\": false}\n"
     ]
    }
   ],
   "source": [
    "print(captcha_func(self={}, do='validate'))"
   ]
  }
 ],
 "metadata": {
  "interpreter": {
   "hash": "09b598ff0e72718ab14b8f904c57db2c667c0c3d7580e9414081ecb307a95222"
  },
  "kernelspec": {
   "display_name": "Python 3.8.10 64-bit ('vpy38': venv)",
   "name": "python3"
  },
  "language_info": {
   "codemirror_mode": {
    "name": "ipython",
    "version": 3
   },
   "file_extension": ".py",
   "mimetype": "text/x-python",
   "name": "python",
   "nbconvert_exporter": "python",
   "pygments_lexer": "ipython3",
   "version": "3.8.10"
  },
  "orig_nbformat": 2
 },
 "nbformat": 4,
 "nbformat_minor": 2
}
