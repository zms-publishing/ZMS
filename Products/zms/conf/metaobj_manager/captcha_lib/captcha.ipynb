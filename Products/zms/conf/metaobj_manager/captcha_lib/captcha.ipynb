{
 "cells": [
  {
   "cell_type": "markdown",
   "metadata": {},
   "source": [
    "# Form Captcha with 4 Digits\n",
    "The notebook code provides two basic funktions for 1. creating an image from a string (using PIL) and 2. creating a hash value based on that string plus a secret string. The created image will be shown on an input form to verify that a user is a human and not a bot. Hash value and creation time will added as hidden fields to the form. The hash value can be used to verify the input string. The creation time can be used to set a time limit for the input."
   ]
  },
  {
   "cell_type": "markdown",
   "metadata": {},
   "source": [
    "## Functions"
   ]
  },
  {
   "cell_type": "code",
   "execution_count": 25,
   "metadata": {},
   "outputs": [],
   "source": [
    "from PIL import Image, ImageDraw, ImageFont\n",
    "import hashlib\n",
    "import random\n",
    "from datetime import datetime, timedelta\n",
    "import json\n",
    "import base64\n",
    "from io import BytesIO\n",
    "\n",
    "# GLOBAL CONSTANTS\n",
    "secret_key='uiwe#sdfj$%sdfj'\n",
    "life_time=600\n",
    "font_path = \"/usr/share/fonts/truetype/freefont/DejaVuSansMono-Bold.ttf\"\n",
    "\n",
    "# HELPER FUNCTIONS\n",
    "# [1] Create an image object from a given text of 4 digits\n",
    "def create_image(text):\n",
    "\t# create an image with the given text\n",
    "\timage = Image.new(\"RGB\", (100, 38), (0, 0, 0))\n",
    "\t# create a drawing object\n",
    "\tdraw = ImageDraw.Draw(image)\n",
    "\t# set the font of the text\n",
    "\tfont = ImageFont.truetype(font_path, 36)\n",
    "\t# draw the text on the image\n",
    "\tdraw.text((5, -3), text, font=font, fill=(255, 255, 255))\n",
    "\t# draw.line((0,8, 100,30), fill=(0,0,0), width=3)\n",
    "\t# draw.line((0,30, 80,0), fill=(255,255,255), width=3)\n",
    "\t# create a BytesIO object\n",
    "\tbuffered = BytesIO()\n",
    "\t# save image to the BytesIO object\n",
    "\timage.save(buffered, format=\"PNG\")\n",
    "\t# get the value of the BytesIO object\n",
    "\timage_bytes = buffered.getvalue()\n",
    "\timage_str = base64.b64encode(image_bytes).decode(\"utf-8\")\n",
    "\t# return data_uri\n",
    "\treturn f\"data:image/png;base64,{image_str}\"\n",
    "\n",
    "\n",
    "# [2] Create hash of a given string\n",
    "def encrypt_password(pw, algorithm='sha256', hex=False):\n",
    "\talgorithm = algorithm.lower()\n",
    "\talgorithm = algorithm=='sha-1' and 'sha1' or algorithm\n",
    "\tenc = None\n",
    "\tif algorithm in list(hashlib.algorithms_available):\n",
    "\t\th = hashlib.new(algorithm)\n",
    "\t\th.update(pw.encode())\n",
    "\t\tif hex:\n",
    "\t\t\tenc = h.hexdigest()\n",
    "\t\telse:\n",
    "\t\t\tenc = h.digest()\n",
    "\treturn enc\n",
    "\n",
    "# #############################\n",
    "# MAIN FUNCTIONS\n",
    "# ##############################\n",
    "# [A] Create Captcha with global constants:\n",
    "#\t@secret_key\n",
    "#\t@life_time\n",
    "def captcha_create(secret_key='uiwe#sdfj$%sdfj', life_time=600):\n",
    "\t# generate a random string\n",
    "\tcaptcha_str = str(random.randint(1000, 9999))\n",
    "\t# create a public key from the secret key and the captcha string\n",
    "\tpublic_key = encrypt_password(secret_key + captcha_str, 'sha256', True)\n",
    "\t# create captcha image as data-uri\n",
    "\tcaptcha_data_uri = create_image(captcha_str)\n",
    "\t# create a timestamp\n",
    "\ttimestamp_create = datetime.timestamp(datetime.now()) * 1000\n",
    "\n",
    "\t# create a dictionary to store the captcha data\n",
    "\tcaptcha_dict = {\n",
    "\t\t'public_key': public_key,\t\t\t\t\t# Used to validate the captcha\n",
    "\t\t#'_captcha_str': captcha_str, \t\t\t\t# Private: to be entered by the user\n",
    "\t\t'timestamp_create': int(timestamp_create),\t# Used to validate the lifetime\n",
    "\t\t'life_time': life_time, \t\t\t\t\t# Needed to refresh the captcha after this time\n",
    "\t\t'captcha_data_uri': captcha_data_uri \t\t# Used to display the captcha image\n",
    "\t}\n",
    "\treturn captcha_dict\n",
    "\n",
    "# [B] Validate Captcha:\n",
    "#\t@public_key: the public key of the captcha\n",
    "#\t@secret_key: the secret key of the captcha\n",
    "#\t@captcha_str: the captcha string entered by the user\n",
    "#\t@timestamp_create: the timestamp when the captcha was created\n",
    "#\t@life_time: the life time of the captcha\n",
    "def captcha_validate(public_key, secret_key, captcha_str, timestamp_create, life_time):\n",
    "\tdt_create = datetime.utcfromtimestamp(float(timestamp_create) / 1e3)\n",
    "\tdt_receive = datetime.utcfromtimestamp((datetime.timestamp(datetime.now()) * 1000) / 1e3)\n",
    "\tis_intime = (dt_receive - dt_create).total_seconds() < life_time\n",
    "\tis_valid = public_key == encrypt_password(secret_key + str(captcha_str), 'sha256', True)\n",
    "\treturn is_intime and is_valid\n"
   ]
  },
  {
   "cell_type": "markdown",
   "metadata": {},
   "source": [
    "## Create Captcha Image and Check Parameters"
   ]
  },
  {
   "cell_type": "code",
   "execution_count": 26,
   "metadata": {},
   "outputs": [
    {
     "name": "stdout",
     "output_type": "stream",
     "text": [
      "{\n",
      "    \"public_key\": \"7c793993844a92ca7514cd7d489311756543915175c53a79740bdc586e478162\",\n",
      "    \"timestamp_create\": 1711416119825,\n",
      "    \"life_time\": 600,\n",
      "    \"captcha_data_uri\": \"data:image/png;base64,iVBORw0KGgoAAAANSUhEUgAAAGQAAAAmCAIAAAC9EKlkAAAFEElEQVR4nO2YSUjrXBiGUxtSi1NFUQoKKopyK06tgsURUVAcwKkISgXtQnElQi26cMRhr1BFLAq6UKRWV27EAScExSJF24WiqHUsItq01d6FP+HcmKZJvTe/izyrnJz3+/Kdl5yTcwJBLCwsLCwsEARBIyMjzj+Jj48nVHI4nJiYmMrKyt7eXp1Od35+jguMi4uj+NDIyMje3t719XWz2Yyi6MvLy9nZmVarVSgUPj4+rqI0Go2TDlar1RNHXJGVlfXx8UHRrOLiYvLiqJgFw/Dg4KDD4XCV5ObmpqSkhDD2r5vl5bZcDD6fPzExweFwqId8n6mpKaVSyeVyXQlCQ0O1Wm1VVRUDxdAwq7+/Pzo6+t+V8hWZTFZTU+NW5uXlpVarg4ODv/k4FEW/meE/0tPT39/fCd9eV9OwsLDw9PR0bm6us7OzuLg4PDz88vKS1jRcW1sD9Ts7O9nZ2X5+fkKhUC6Xm81msLelpYXWiDgcjslkAjNoNBpaGYjh8XgGgwFLiqIoFbO+Qtcs8EEXFxf+/v5gb25uLphtZmaG1qBw4U6nUyqVkodQmobd3d3YwJaWlvR6Pa2yPMPf3x9BEKy5srLy/PwMClZXVx8fH7Em3WnY2NgINo+Pj7e2tshD3JslkUja2to+r5+fn5ubm2nV5DGvr692ux1renkRlAretFgs1JMLBILy8nLwzvj4uNsoN2YhCDI5OYl9jJRK5eXlJfWavoPD4djZ2cGaBQUFAQEBoCA/P18gEGDNjY0N6slra2u9vb2xptVqnZqa8rzWT3p6erApvb6+/rlv2N/fZ2bNKioqAvXb29tZWVmfC3x9ff3t7S3WdXV1hVvRyDk4OAAzT09PU48lJikpyWazfaZ7e3uLjY39vM+YWRAEKRQKV19hjOvra+o1QBAkFotxGTIzM6mHEwDDMGi/SqXCupg0C4Kg5OTkhYUFQptQFB0aGgoJCaE1tNHRUTCJwWCgFU5AZ2cnlu7w8BCGYayLSbMQBOno6MBtqUCOjo5KS0upj4vP51ssFjBDa2sr9XACRCIRtsdxOBxisRjsZcwsX1/fzc1NVzaBdHV1Uayhrq4ODLRarUFBQRRjCeByubu7u1i64eFhnIAxs2ZnZ0H98vJyWloaj8cLDAysrq7G/caoqKigUgPuVEB3K4sHXP9MJhOfz8cJmDErKSkJFC8uLuLO8GFhYQ8PD5jAaDS6PeRHR0fjXsmcnByKxRMjkUicHgHuegihZVZfXx8oTkhIcKtJTEwkL2BgYADUn56eujPjD2j8dWCYX79+Ydc2m+3o6OirZm9vz1XIV2AYlsvl4B0qu3aQn2sWuMN2BW7ekYcUFRUJhUKsabPZ6P5m+LlmgYdkBEEIp1h6ejrYfHh4IEmIOzlrtdq7u7vv1UgBZhZ4pVIJir8u8BEREU9PT6AmKirKVTahUGi320FxXl4exbK/BTNmiUQi3AdkaWkpNTUVQRCBQFBTU4PLdnx8TJJNpVKBYpPJxND/cYpmabVaJx1eXl5wGebn56mHy2QykpqNRiMobm9v/2t2kMOYWcHBwScnJ1Ri1Wo1ScE5OTmg2GazhYaGejDwn7vAQxB0f3+fkZGh0+lINCiKtre3NzU1kWgaGhrApk6nM5vNHtQDu5f8r9zd3ZWVlaWkpNTV1Uml0sjISIFAYLfbHx8f9Xr96uqqRqMh/6gFBATgTkJjY2P/uGoWFhYWFhYWFgj6DfgU0LhMZwQPAAAAAElFTkSuQmCC\"\n",
      "}\n"
     ]
    }
   ],
   "source": [
    "# Create a captcha\n",
    "captcha_data = captcha_create(secret_key, life_time)\n",
    "# Create a JSON object from the captcha_dict\n",
    "captcha_data_json = json.dumps(captcha_data, indent=4)\n",
    "# Send the captcha_data_json to the client\n",
    "print(captcha_data_json)"
   ]
  },
  {
   "cell_type": "markdown",
   "metadata": {},
   "source": [
    "# Validate Captcha Check Parameters"
   ]
  },
  {
   "cell_type": "code",
   "execution_count": 178,
   "metadata": {},
   "outputs": [
    {
     "name": "stdout",
     "output_type": "stream",
     "text": [
      "Captcha is valid: False\n"
     ]
    }
   ],
   "source": [
    "# Get the json data from the client request\n",
    "\n",
    "req_data_json = \"\"\"{\n",
    "\t\"public_key\": \"c49c364387c9e98d6789ecb6ce115e95152b4c15\",\n",
    "\t\"captcha_str\": \"4991\",\n",
    "\t\"timestamp_create\": 1711377081016\n",
    "}\"\"\"\n",
    "\n",
    "req_data = json.loads(req_data_json)\n",
    "\n",
    "# Validate the captcha\n",
    "captcha_is_valid = captcha_validate(req_data.get('public_key'), secret_key, req_data.get('captcha_str'), req_data.get('timestamp_create'), life_time)\n",
    "print ('Captcha is valid:', captcha_is_valid)"
   ]
  },
  {
   "cell_type": "code",
   "execution_count": 185,
   "metadata": {},
   "outputs": [],
   "source": [
    "# ##############################\n",
    "# ZOPE-API-CALL captcha(create|validate)\n",
    "# ##############################\n",
    "def captcha_func(self, do):\n",
    "\ttry:\n",
    "\t\trequest = self.REQUEST\n",
    "\texcept:\n",
    "\t\trequest = {}\n",
    "\tif do == 'create':\n",
    "\t\t# Create a captcha\n",
    "\t\tcaptcha_data = captcha_create(secret_key, life_time)\n",
    "\t\t# Create a JSON object from the captcha_dict\n",
    "\t\tcaptcha_data_json = json.dumps(captcha_data, indent=4)\n",
    "\t\t# Send the captcha_data_json to the client\n",
    "\t\treturn captcha_data_json\n",
    "\telif do == 'validate':\n",
    "\t\treq_data = {}\n",
    "\t\t# Get the relevant captcha data from the client request\n",
    "\t\tfor k in ['public_key','captcha_str','timestamp_create']:\n",
    "\t\t\treq_data[k] = request.get(k,0)\n",
    "\t\t# Validate the captcha data\n",
    "\t\tcaptcha_is_valid = captcha_validate(req_data.get('public_key'), secret_key, req_data.get('captcha_str'), req_data.get('timestamp_create'), life_time)\n",
    "\t\treturn captcha_is_valid and json.dumps({'captcha_is_valid':True}) or json.dumps({'captcha_is_valid':False})\n"
   ]
  },
  {
   "cell_type": "code",
   "execution_count": 190,
   "metadata": {},
   "outputs": [
    {
     "name": "stdout",
     "output_type": "stream",
     "text": [
      "{\"captcha_is_valid\": false}\n"
     ]
    }
   ],
   "source": [
    "print(captcha_func(self={}, do='validate'))"
   ]
  }
 ],
 "metadata": {
  "interpreter": {
   "hash": "09b598ff0e72718ab14b8f904c57db2c667c0c3d7580e9414081ecb307a95222"
  },
  "kernelspec": {
   "display_name": "Python 3.8.10 64-bit ('vpy38': venv)",
   "name": "python3"
  },
  "language_info": {
   "codemirror_mode": {
    "name": "ipython",
    "version": 3
   },
   "file_extension": ".py",
   "mimetype": "text/x-python",
   "name": "python",
   "nbconvert_exporter": "python",
   "pygments_lexer": "ipython3",
   "version": "3.8.10"
  },
  "orig_nbformat": 2
 },
 "nbformat": 4,
 "nbformat_minor": 2
}
