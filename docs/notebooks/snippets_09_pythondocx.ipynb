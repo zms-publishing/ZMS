{
 "cells": [
  {
   "cell_type": "markdown",
   "metadata": {},
   "source": [
    "# Creating DOCX objects from XML fragments"
   ]
  },
  {
   "cell_type": "code",
   "execution_count": 5,
   "metadata": {},
   "outputs": [],
   "source": [
    "import docx\n",
    "from docx.oxml import parse_xml\n",
    "from docx.oxml.ns import nsdecls\n",
    "from lxml import etree\n",
    "\n",
    "doc = docx.Document()\n",
    "# Add a heading\n",
    "doc.add_heading('Test Document', level=1)\n",
    "\n",
    "\n",
    "# Add a paragraph\n",
    "# This XML string is a paragraph with two runs. The second run has a style applied.\n",
    "# Examples: https://github.com/python-openxml/python-docx/tree/master/docs/dev/analysis/features\n",
    "\n",
    "xml_string = \"\"\"\n",
    "\t<w:p xmlns:w=\"http://schemas.openxmlformats.org/wordprocessingml/2006/main\">\n",
    "\t\t<w:r>\n",
    "\t\t\t<w:t>Hello, </w:t>\n",
    "\t\t</w:r>\n",
    "\t\t<w:r>\n",
    "\t\t<w:rPr>\n",
    "\t\t\t<w:rStyle w:val=\"Emphasis\"/>\n",
    "\t\t</w:rPr>\n",
    "\t\t\t<w:t>world!</w:t>\n",
    "\t\t</w:r>\n",
    "\t</w:p>\n",
    "\"\"\"\n",
    "\n",
    "# Parse the XML string\n",
    "root = parse_xml(xml_string)\n",
    "\n",
    "# Append the root to the element of the document\n",
    "doc.element.body.append(root)\n",
    "\n",
    "# Save the document\n",
    "doc.save('test.docx')"
   ]
  },
  {
   "cell_type": "markdown",
   "metadata": {},
   "source": [
    "# Cellpadding"
   ]
  },
  {
   "cell_type": "markdown",
   "metadata": {},
   "source": [
    "## Rowspan\n",
    "\n",
    "In python-docx, you can merge cells vertically to simulate the effect of rowspan in HTML. Here's how you can do it:"
   ]
  },
  {
   "cell_type": "code",
   "execution_count": 1,
   "metadata": {},
   "outputs": [],
   "source": [
    "import docx\n",
    "\n",
    "# Create a new Document\n",
    "doc = docx.Document()\n",
    "\n",
    "# Add a table\n",
    "table = doc.add_table(rows=3, cols=3)\n",
    "\n",
    "# Merge cells\n",
    "cell_1 = table.cell(0, 0)\n",
    "cell_2 = table.cell(2, 0)\n",
    "cell_1.merge(cell_2)\n",
    "\n",
    "# Save the document\n",
    "doc.save('test.docx')"
   ]
  },
  {
   "cell_type": "markdown",
   "metadata": {},
   "source": [
    "## Colspan"
   ]
  },
  {
   "cell_type": "markdown",
   "metadata": {},
   "source": [
    "In this code, `table.cell(0, 0)` and `table.cell(2, 0)` are used to get the first cell of the first and third `rows. cell_1.merge(cell_2)` is then used to merge these cells, effectively creating a cell with rowspan=\"3\".\n",
    "\n",
    "Please note that this will only merge the cells vertically. If you want to merge cells horizontally (i.e., create a cell with colspan), you can use the same method but with cells from the same row.\n"
   ]
  },
  {
   "cell_type": "code",
   "execution_count": 2,
   "metadata": {},
   "outputs": [],
   "source": [
    "import docx \n",
    "# Create a new Document\n",
    "doc = docx.Document()\n",
    "\n",
    "# Add a table\n",
    "table = doc.add_table(rows=3, cols=3)\n",
    "\n",
    "# Merge cells\n",
    "cell_1 = table.cell(0, 0)\n",
    "cell_2 = table.cell(0, 2)\n",
    "cell_1.merge(cell_2)\n",
    "\n",
    "# Save the document\n",
    "doc.save('test.docx')"
   ]
  },
  {
   "cell_type": "code",
   "execution_count": 3,
   "metadata": {},
   "outputs": [],
   "source": [
    "import docx\n",
    "from docx.enum.table import WD_TABLE_ALIGNMENT\n",
    "from bs4 import BeautifulSoup, NavigableString\n",
    "from lxml import etree\n",
    "\n",
    "docx_doc = docx.Document()\n",
    "\n",
    "htbl = '''\n",
    "<table>\n",
    "\t<tr>\n",
    "\t\t<th>Row 1, Column 1</th>\n",
    "\t\t<th>Row 1, Column 2</th>\n",
    "\t\t<th colspan=\"3\">Row 1, Column 3</th>\n",
    "\t\t<th>Row 1, Column 4</th>\n",
    "\t</tr>\n",
    "\t<tr>\n",
    "\t\t<td>Row 2, Column 1</td>\n",
    "\t\t<td colspan=\"2\">Row 2, Column 2</td>\n",
    "\t\t<td></td>\n",
    "\t\t<td>Row 2, Column 4</td>\n",
    "\t</tr>\n",
    "\t<tr>\n",
    "\t\t<td>Row 3, Column 1</td>\n",
    "\t\t<td></td>\n",
    "\t\t<td></td>\n",
    "\t\t<td>Row 3, Column 4</td>\n",
    "\t</tr>\n",
    "\t<tr>\n",
    "\t\t<td rowspan=\"2\">Row 4, Column 1</td>\n",
    "\t\t<td></td>\n",
    "\t\t<td>Row 4, Column 3</td>\n",
    "\t\t<td>Row 4, Column 4</td>\n",
    "\t</tr>\n",
    "</table>\n",
    "'''\n",
    "\n",
    "element = BeautifulSoup(htbl, 'html.parser')\n",
    "\n",
    "rows = element.find_all('tr')\n",
    "cols = rows[0].find_all(['td','th'])\n",
    "table = docx_doc.add_table(rows=len(rows), cols=len(cols))\n",
    "table.style = 'Table Grid'\n",
    "table.alignment = docx.enum.table.WD_TABLE_ALIGNMENT.CENTER\n",
    "\n",
    "# [A] Filling Cells with data\n",
    "r=-1\n",
    "for row in rows:\n",
    "\tr+=1\n",
    "\tcells = row.find_all(['td','th'])\n",
    "\tfor i, cl in enumerate(cells):\n",
    "\t\ttable.cell(r,i).text = cl.text\n",
    "\t\tif cl.name == 'th':\n",
    "\t\t\ttable.cell(r,i).paragraphs[0].runs[0].bold = True\n",
    "\n",
    "# [B] Merge Cells with rowspan and colspan\n",
    "r=-1\n",
    "rspn = 0\n",
    "clspn = 0\n",
    "for row in rows:\n",
    "\tr+=1\n",
    "\tcells = row.find_all(['td','th'])\n",
    "\tfor i, cl in enumerate(cells):\n",
    "\t\t# Merge cells if rowspan or colspan is set\n",
    "\t\tif cl.has_attr('rowspan'):\n",
    "\t\t\trspn = int(cl['rowspan'])\n",
    "\t\t\ttable.cell(r,i).merge(table.cell(r,i+rspn-1))\n",
    "\t\tif cl.has_attr('colspan'):\n",
    "\t\t\tclspn = int(cl['colspan'])\n",
    "\t\t\ttable.cell(r,i).merge(table.cell(r+clspn-1,i))\n",
    "\n",
    "# Save the document\n",
    "docx_doc.save('test.docx')"
   ]
  },
  {
   "cell_type": "markdown",
   "metadata": {},
   "source": [
    "HINT: You can use the `cell.merge()` method to merge cells horizontally. For example, `table.cell(0, 0).merge(table.cell(0, 2))` will merge the first three cells of the first row, creating a cell with colspan=\"3\".\n",
    "\n",
    "![tbl.png](./tbl_preview.png)\n"
   ]
  }
 ],
 "metadata": {
  "kernelspec": {
   "display_name": "vpy38",
   "language": "python",
   "name": "python3"
  },
  "language_info": {
   "codemirror_mode": {
    "name": "ipython",
    "version": 3
   },
   "file_extension": ".py",
   "mimetype": "text/x-python",
   "name": "python",
   "nbconvert_exporter": "python",
   "pygments_lexer": "ipython3",
   "version": "3.8.10"
  }
 },
 "nbformat": 4,
 "nbformat_minor": 2
}
