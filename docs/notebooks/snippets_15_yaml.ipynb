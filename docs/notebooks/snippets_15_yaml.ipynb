{
 "cells": [
  {
   "cell_type": "markdown",
   "metadata": {},
   "source": [
    "# Play with YAML"
   ]
  },
  {
   "cell_type": "code",
   "execution_count": 5,
   "metadata": {},
   "outputs": [
    {
     "name": "stdout",
     "output_type": "stream",
     "text": [
      "Converted ../../Products/zms/skins/storybook/schema/infobox/init.json to ../../Products/zms/skins/storybook/schema/infobox/init.yaml\n"
     ]
    }
   ],
   "source": [
    "#!/usr/bin/env python3\n",
    "# -*- coding: utf-8 -*-\n",
    "\n",
    "import os\n",
    "import json\n",
    "import yaml\n",
    "\n",
    "# json file\n",
    "f_dir = '../../Products/zms/skins/storybook/schema/infobox/'\n",
    "f = os.path.join(f_dir, 'init.json')\n",
    "\n",
    "with open(f, 'r', encoding='utf-8') as file:\n",
    "    content = file.read()\n",
    "\n",
    "# Convert JSON to YAML\n",
    "data = json.loads(content)\n",
    "# Make sure that the element sequence in the YAML file is like the original JSON file\n",
    "data = {k: data[k] for k in data if k in data}  # Maintain order of keys\n",
    "yaml_content = yaml.dump(data, allow_unicode=True, default_flow_style=False)\n",
    "# Write YAML to file\n",
    "yaml_file = os.path.join(f_dir, 'init.yaml')\n",
    "with open(yaml_file, 'w', encoding='utf-8') as file:\n",
    "    file.write(yaml_content)\n",
    "print(f\"Converted {f} to {yaml_file}\")\n"
   ]
  }
 ],
 "metadata": {
  "kernelspec": {
   "display_name": "vpy313",
   "language": "python",
   "name": "python3"
  },
  "language_info": {
   "codemirror_mode": {
    "name": "ipython",
    "version": 3
   },
   "file_extension": ".py",
   "mimetype": "text/x-python",
   "name": "python",
   "nbconvert_exporter": "python",
   "pygments_lexer": "ipython3",
   "version": "3.13.3"
  }
 },
 "nbformat": 4,
 "nbformat_minor": 2
}
