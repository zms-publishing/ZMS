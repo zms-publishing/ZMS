{
 "cells": [
  {
   "cell_type": "markdown",
   "metadata": {},
   "source": [
    "# Convert XML File into SQLite Database\n",
    "\n",
    "This program provides a function to convert an XML file into an SQLite database.\n",
    "The XML file should have a specific structure, where each element represents a row in the database table.\n",
    "\n",
    "_Source_: https://codepal.ai/code-generator/query/osPrjjQ9/convert-xml-to-sqlite-database"
   ]
  },
  {
   "cell_type": "code",
   "execution_count": 1,
   "metadata": {},
   "outputs": [],
   "source": [
    "import xml.etree.ElementTree as ET\n",
    "import sqlite3\n",
    "import logging\n",
    "\n",
    "# Setting up logging to monitor performance and errors\n",
    "logging.basicConfig(level=logging.INFO)"
   ]
  },
  {
   "cell_type": "code",
   "execution_count": 3,
   "metadata": {},
   "outputs": [],
   "source": [
    "def convert_xml_to_sqlite(xml_file, db_file, table_name):\n",
    "\t\"\"\"\n",
    "\tConvert XML File into SQLite Database\n",
    "\n",
    "\tThis function takes an XML file, parses it, and inserts the data into an SQLite database.\n",
    "\n",
    "\tArgs:\n",
    "\txml_file (str): Path to the XML file.\n",
    "\tdb_file (str): Path to the SQLite database file.\n",
    "\ttable_name (str): Name of the table to insert the data into.\n",
    "\n",
    "\tReturns:\n",
    "\tbool: True if the conversion is successful, False otherwise.\n",
    "\n",
    "\tExamples:\n",
    "\t>>> convert_xml_to_sqlite('data.xml', 'data.db', 'my_table')\n",
    "\tTrue\n",
    "\t\"\"\"\n",
    "\n",
    "\ttry:\n",
    "\t\tlogging.info(\"Parsing XML file...\")\n",
    "\t\ttree = ET.parse(xml_file)\n",
    "\t\troot = tree.getroot()\n",
    "\n",
    "\t\t# Extract column names and types from the first element\n",
    "\t\tfirst_element = root[0]\n",
    "\t\tcolumns = []\n",
    "\t\tfor child in first_element:\n",
    "\t\t\tdatatype = \"TEXT\" \n",
    "\t\t\t# For simplicity assuming most values are text besides columns with 'date' or 'datum' in the tag \n",
    "\t\t\tif 'date' in child.tag.lower() or 'datum' in child.tag.lower():\n",
    "\t\t\t\tdatatype = 'DATE'\n",
    "\t\t\tcolumns.append(f\"{child.tag} {datatype}\")\n",
    "\n",
    "\t\t# Create the table if it doesn't exist\n",
    "\t\tcreate_table_query = f\"CREATE TABLE IF NOT EXISTS {table_name} (id INTEGER PRIMARY KEY AUTOINCREMENT, {', '.join(columns)})\"\n",
    "\n",
    "\t\tlogging.info(\"Creating SQLite database...\")\n",
    "\t\tconn = sqlite3.connect(db_file)\n",
    "\t\tcursor = conn.cursor()\n",
    "\n",
    "\t\tcursor.execute(create_table_query)\n",
    "\n",
    "\n",
    "\t\t# Insert data into the table\n",
    "\t\tfor element in root:\n",
    "\t\t\tcolumns = []\n",
    "\t\t\tvalues = []\n",
    "\t\t\tfor child in element:\n",
    "\t\t\t\tcolumns.append(child.tag)\n",
    "\t\t\t\ttxt = child.text\n",
    "\t\t\t\tif txt is None:\n",
    "\t\t\t\t\tvalues.append(None)\n",
    "\t\t\t\telif 'datum' in child.tag or 'date' in child.tag:\n",
    "\t\t\t\t\ttxt = txt.strip()\n",
    "\t\t\t\t\t# Remove inline linebreaks and tabs\n",
    "\t\t\t\t\ttxt = txt.replace('\\n\\t', '').replace('\\t', '').replace('\\r', '').strip()\n",
    "\t\t\t\t\t# Date format is supposed to be German, so we need to convert it to English format\n",
    "\t\t\t\t\t# Assuming the date format is always dd.mm.yyyy or '' or None\n",
    "\t\t\t\t\tif txt == '' or txt is None or '.' not in txt:\n",
    "\t\t\t\t\t\ttxt = None\n",
    "\t\t\t\t\telif txt.split('.')[0].isnumeric() and txt.split('.')[1].isnumeric() and txt.split('.')[2].isnumeric():\n",
    "\t\t\t\t\t\tday, month, year = txt.split('.')[0], txt.split('.')[1], txt.split('.')[2]\n",
    "\t\t\t\t\t\ttxt = f\"{year}-{month}-{day}\"\n",
    "\t\t\t\t\tvalues.append(txt)\n",
    "\t\t\t\telse:\n",
    "\t\t\t\t\t# Ensure text is utf-8 encoded\n",
    "\t\t\t\t\ttxt = txt.encode('utf-8', 'ignore').decode('utf-8')\n",
    "\t\t\t\t\tvalues.append(txt.strip())\n",
    "\t\t\tquery = f\"INSERT INTO {table_name} ({', '.join(columns)}) VALUES ({', '.join(['?'] * len(values))})\"\n",
    "\t\t\tcursor.execute(query, values)\n",
    "\n",
    "\t\t# Commit the changes and close the connection\n",
    "\t\tconn.commit()\n",
    "\t\tconn.close()\n",
    "\n",
    "\t\tlogging.info(\"Conversion successful.\")\n",
    "\t\treturn True\n",
    "\n",
    "\texcept Exception as e:\n",
    "\t\tlogging.error(f\"An error occurred: {e}\")\n",
    "\t\treturn False"
   ]
  },
  {
   "cell_type": "code",
   "execution_count": null,
   "metadata": {},
   "outputs": [
    {
     "name": "stderr",
     "output_type": "stream",
     "text": [
      "INFO:root:Parsing XML file...\n",
      "INFO:root:Creating SQLite database...\n",
      "INFO:root:Conversion successful.\n"
     ]
    },
    {
     "name": "stdout",
     "output_type": "stream",
     "text": [
      "XML file converted to SQLite database successfully.\n"
     ]
    }
   ],
   "source": [
    "if __name__ == \"__main__\":\n",
    "\t# [1] Migrating data \"urteile\"\n",
    "\t# xml_file = '/tmp/urteile_utf8.xml'\n",
    "\t# db_file = '/tmp/urteile.sqlite'\n",
    "\t# table_name = 'urteile'\n",
    "\t# [2] Migrating data \"gerichte\"\n",
    "\txml_file = '/tmp/gerichte_utf8.xml'\n",
    "\tdb_file = '/tmp/gerichte.sqlite'\n",
    "\ttable_name = 'gerichte'\n",
    "\n",
    "\tif convert_xml_to_sqlite(xml_file, db_file, table_name):\n",
    "\t\tprint(\"XML file converted to SQLite database successfully.\")\n",
    "\telse:\n",
    "\t\tprint(\"Failed to convert XML file to SQLite database.\")"
   ]
  },
  {
   "cell_type": "markdown",
   "metadata": {},
   "source": [
    "# Close DB-Connection "
   ]
  },
  {
   "cell_type": "code",
   "execution_count": 54,
   "metadata": {},
   "outputs": [],
   "source": [
    "db_file = '/tmp/gerichte.sqlite'\n",
    "conn = sqlite3.connect(db_file)\n",
    "conn.close()"
   ]
  },
  {
   "cell_type": "markdown",
   "metadata": {},
   "source": [
    "# Using SQLite in Zope and ZMS\n",
    "\n",
    "For using the SQLite-DB in Zope a Database-Adapter (DA) is needed. [SQLAlchemyDA](https://github.com/zopefoundation/Products.SQLAlchemyDA) is a general purpose DA und works with all kinds of SQL databases. To apply this DA the Python environment needs having installed the two libraries: _SQLAlchemy_ and _Products.SQLAlchemyDA_.\n",
    "Because the DSN addresses a SQLite-DB file it looks like this: `sqlite:////$systempath/$filename.sqlite`\n",
    "\n",
    "\n",
    "_Screenshot: Zope SQLAlchemyDA with a connection to a SQLite database file_\n",
    "![SQLite-SQLAlchemyDA](../images/SQLAlchemyDA_Zope_wrapper.gif)\n",
    "\n",
    "\n",
    "Once a DA object is available in Zope object tree the ZMS meta-object [ZMSSQLDB](https://github.com/zms-publishing/ZMS/tree/main/Products/zms/conf/metaobj_manager/com.zms.foundation/ZMSSqlDb) can represent the database and provide a table-editor for working on the data."
   ]
  }
 ],
 "metadata": {
  "kernelspec": {
   "display_name": "vpy313",
   "language": "python",
   "name": "python3"
  },
  "language_info": {
   "codemirror_mode": {
    "name": "ipython",
    "version": 3
   },
   "file_extension": ".py",
   "mimetype": "text/x-python",
   "name": "python",
   "nbconvert_exporter": "python",
   "pygments_lexer": "ipython3",
   "version": "3.13.0"
  },
  "orig_nbformat": 2
 },
 "nbformat": 4,
 "nbformat_minor": 2
}
