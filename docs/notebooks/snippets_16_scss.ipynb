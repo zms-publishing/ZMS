{
 "cells": [
  {
   "cell_type": "markdown",
   "metadata": {},
   "source": [
    "# SCSS to CSS"
   ]
  },
  {
   "cell_type": "code",
   "execution_count": 5,
   "metadata": {},
   "outputs": [
    {
     "name": "stdout",
     "output_type": "stream",
     "text": [
      "SCSS compiled to CSS successfully.\n"
     ]
    }
   ],
   "source": [
    "# Note: Ensure that the libsass library is installed in your Python environment.\n",
    "import sass\n",
    "# Convert SCSS file zmi.core.scss to CSS\n",
    "with open('/home/zope/src/zms-publishing/ZMS5/Products/zms/plugins/www/zmi.core.scss', 'r') as scss_file:\n",
    "    scss_code = scss_file.read()\n",
    "css_code = sass.compile(string=scss_code)\n",
    "# Write the CSS code to a file\n",
    "with open('/home/zope/src/zms-publishing/ZMS5/Products/zms/plugins/www/zmi.core_new.css', 'w') as css_file:\n",
    "    css_file.write(css_code)\n",
    "print(\"SCSS compiled to CSS successfully.\")\n"
   ]
  }
 ],
 "metadata": {
  "kernelspec": {
   "display_name": "vpy313",
   "language": "python",
   "name": "python3"
  },
  "language_info": {
   "codemirror_mode": {
    "name": "ipython",
    "version": 3
   },
   "file_extension": ".py",
   "mimetype": "text/x-python",
   "name": "python",
   "nbconvert_exporter": "python",
   "pygments_lexer": "ipython3",
   "version": "3.13.3"
  },
  "orig_nbformat": 2
 },
 "nbformat": 4,
 "nbformat_minor": 2
}
