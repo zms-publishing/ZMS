{
 "cells": [
  {
   "cell_type": "markdown",
   "metadata": {},
   "source": [
    "# Form Captcha with 4 Digits\n",
    "The notebook code provides two basic funktions for 1. creating an image from a string (using PIL) and 2. creating a hash value (signature) based on that string plus a secret string and a timestamp. The created image will be shown on an input form to verify that a user is a human and not a bot. Hash value and creation time will added as hidden fields to the form. The hash value will be used to verify the input string. The creation time can be used to set a time limit for the input. All values will be stored in a log file to prevent that the form parameters are used repetitive."
   ]
  },
  {
   "cell_type": "markdown",
   "metadata": {},
   "source": [
    "## Functions"
   ]
  },
  {
   "cell_type": "code",
   "execution_count": 114,
   "metadata": {},
   "outputs": [],
   "source": [
    "from PIL import Image, ImageDraw, ImageFont\n",
    "import hashlib\n",
    "import random\n",
    "from datetime import datetime, timedelta\n",
    "import json\n",
    "import base64\n",
    "from io import BytesIO\n",
    "\n",
    "# GLOBAL CONSTANTS\n",
    "secret_key='uiwe#sdfj$%sdfj'\n",
    "life_time=600\n",
    "font_path = \"/usr/share/fonts/truetype/freefont/DejaVuSansMono-Bold.ttf\"\n",
    "log_path = \"/tmp/captcha.log\"\n",
    "\n",
    "# HELPER FUNCTIONS\n",
    "# [1] Create an image object from a given text of 4 digits\n",
    "def create_image(text):\n",
    "\t# create an image with the given text\n",
    "\timage = Image.new(\"RGB\", (100, 38), (0, 0, 0))\n",
    "\t# create a drawing object\n",
    "\tdraw = ImageDraw.Draw(image)\n",
    "\t# set the font of the text\n",
    "\tfont = ImageFont.truetype(font_path, 36)\n",
    "\t# draw the text on the image\n",
    "\tdraw.text((5, -3), text, font=font, fill=(255, 255, 255))\n",
    "\t# draw.line((0,8, 100,30), fill=(0,0,0), width=3)\n",
    "\t# draw.line((0,30, 80,0), fill=(255,255,255), width=3)\n",
    "\t# create a BytesIO object\n",
    "\tbuffered = BytesIO()\n",
    "\t# save image to the BytesIO object\n",
    "\timage.save(buffered, format=\"PNG\")\n",
    "\t# get the value of the BytesIO object\n",
    "\timage_bytes = buffered.getvalue()\n",
    "\timage_str = base64.b64encode(image_bytes).decode(\"utf-8\")\n",
    "\t# return data_uri\n",
    "\treturn f\"data:image/png;base64,{image_str}\"\n",
    "\n",
    "\n",
    "# [2] Create hash of a given string\n",
    "def encrypt_password(pw, algorithm='sha256', hex=False):\n",
    "\talgorithm = algorithm.lower()\n",
    "\tenc = None\n",
    "\tif algorithm in list(hashlib.algorithms_available):\n",
    "\t\th = hashlib.new(algorithm)\n",
    "\t\th.update(pw.encode())\n",
    "\t\tif hex:\n",
    "\t\t\tenc = h.hexdigest()\n",
    "\t\telse:\n",
    "\t\t\tenc = h.digest()\n",
    "\treturn enc\n",
    "\n",
    "# [3] Write captcha data to a file\n",
    "def write_captcha_data(captcha_str, file_path):\n",
    "\twas_used = False\n",
    "\twith open(file_path, 'r') as file_read:\n",
    "\t\tl = [line.strip() for line in file_read.readlines()]  # remove line breaks\n",
    "\t\tif captcha_str not in l:\n",
    "\t\t\t# add the new captcha to the list\n",
    "\t\t\tl.append(captcha_str)\n",
    "\t\t\twith open(file_path, 'w') as file_write:\n",
    "\t\t\t\tfile_write.write('\\n'.join(l))\n",
    "\t\telse:\n",
    "\t\t\twas_used = True\n",
    "\tif was_used: \n",
    "\t\t# used before means it is not written to the file\n",
    "\t\treturn False\n",
    "\telse: \n",
    "\t\t# not used before means it is written to the file\n",
    "\t\treturn True\n",
    "\n",
    "# [4] Read captcha data from a file\n",
    "def read_captcha_data(file_path):\n",
    "\twith open(file_path, 'r') as file:\n",
    "\t\tl = [int(line.strip()) for line in file.readlines()]  # remove line breaks\n",
    "\t# keep only the last 100 entries\n",
    "\tif len(l) > 100:\n",
    "\t\tl = l[-100:]\n",
    "\t\twith open(file_path, 'w') as file:\n",
    "\t\t\tfile.write('\\n'.join([str(i) for i in l]))\n",
    "\treturn l\n",
    "\n",
    "# [5] Exclude the logged list of numbers from a random number generator\n",
    "def randint_exclude(start, end, exclude):\n",
    "\twhile True:\n",
    "\t\trand_num = random.randint(start, end)\n",
    "\t\tif rand_num not in exclude:\n",
    "\t\t\treturn rand_num\n",
    "\n",
    "# ##############################\n",
    "# MAIN FUNCTIONS\n",
    "# ##############################\n",
    "# [A] Create Captcha with global constants:\n",
    "#\t@secret_key\n",
    "#\t@life_time\n",
    "def captcha_create(secret_key='uiwe#sdfj$%sdfj', life_time=600):\n",
    "\t# Generate a random string that is not in the log file\n",
    "\tl = read_captcha_data(log_path)\n",
    "\tcaptcha_str = str(randint_exclude(1000, 9999, l))\n",
    "\t# Create a timestamp\n",
    "\ttimestamp_create = int(datetime.timestamp(datetime.now()) * 1000)\n",
    "\t# Create a signature key from the secret key, captcha string and timestamp\n",
    "\tsignature = encrypt_password(secret_key + captcha_str + str(timestamp_create), 'sha256', True)\n",
    "\t# Create captcha image as data-uri\n",
    "\tcaptcha_data_uri = create_image(captcha_str)\n",
    "\n",
    "\t# create a dictionary to store the captcha data\n",
    "\tcaptcha_dict = {\n",
    "\t\t'signature': signature,\t\t\t\t\t\t# Used to validate the captcha\n",
    "\t\t'_captcha_str': captcha_str, \t\t\t\t# Private: to be entered by the user\n",
    "\t\t'timestamp_create': timestamp_create,\t\t# Used to validate the lifetime\n",
    "\t\t'life_time': life_time, \t\t\t\t\t# Needed to refresh the captcha after this time\n",
    "\t\t'captcha_data_uri': captcha_data_uri \t\t# Used to display the captcha image\n",
    "\t}\n",
    "\treturn captcha_dict\n",
    "\n",
    "# [B] Validate Captcha:\n",
    "#\t@signature: the public key of the captcha\n",
    "#\t@secret_key: the secret key of the captcha\n",
    "#\t@captcha_str: the captcha string entered by the user\n",
    "#\t@timestamp_create: the timestamp when the captcha was created\n",
    "#\t@life_time: the life time of the captcha\n",
    "def captcha_validate(signature, secret_key, captcha_str, timestamp_create, life_time):\n",
    "\tdt_create = datetime.utcfromtimestamp(float(timestamp_create) / 1e3)\n",
    "\tdt_receive = datetime.utcfromtimestamp((datetime.timestamp(datetime.now()) * 1000) / 1e3)\n",
    "\tis_intime = (dt_receive - dt_create).total_seconds() < life_time\n",
    "\tis_valid = signature == encrypt_password(secret_key + str(captcha_str) + str(timestamp_create), 'sha256', True)\n",
    "\tif is_intime and is_valid:\n",
    "\t\t# check if the captcha was used before\n",
    "\t\tif write_captcha_data(captcha_str, log_path):\n",
    "\t\t\treturn True\n",
    "\t\telse:\n",
    "\t\t\treturn False\n",
    "\telse:\n",
    "\t\treturn False\n"
   ]
  },
  {
   "cell_type": "markdown",
   "metadata": {},
   "source": [
    "## TEST: Create Captcha Image and Check Parameters"
   ]
  },
  {
   "cell_type": "code",
   "execution_count": 121,
   "metadata": {},
   "outputs": [
    {
     "name": "stdout",
     "output_type": "stream",
     "text": [
      "{\n",
      "    \"signature\": \"f3c5db47cf5d726692369d928729c92331da30027b747f3b41db586ffb6c25b0\",\n",
      "    \"_captcha_str\": \"3896\",\n",
      "    \"timestamp_create\": 1711482562896,\n",
      "    \"life_time\": 600,\n",
      "    \"captcha_data_uri\": \"data:image/png;base64,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\"\n",
      "}\n"
     ]
    }
   ],
   "source": [
    "# Create a captcha\n",
    "captcha_data = captcha_create(secret_key, life_time)\n",
    "# Create a JSON object from the captcha_dict\n",
    "captcha_data_json = json.dumps(captcha_data, indent=4)\n",
    "# Send the captcha_data_json to the client\n",
    "print(captcha_data_json)"
   ]
  },
  {
   "cell_type": "markdown",
   "metadata": {},
   "source": [
    "# TEST: Validate Captcha Check Parameters"
   ]
  },
  {
   "cell_type": "code",
   "execution_count": 122,
   "metadata": {},
   "outputs": [
    {
     "name": "stdout",
     "output_type": "stream",
     "text": [
      "Captcha is valid: True\n",
      "[1674, 6234, 9049, 4683, 9275, 3896]\n"
     ]
    }
   ],
   "source": [
    "# Get the json data from the client request\n",
    "\n",
    "req_data_json = \"\"\"{\n",
    "\t\"signature\": \"f3c5db47cf5d726692369d928729c92331da30027b747f3b41db586ffb6c25b0\",\n",
    "\t\"captcha_str\": \"3896\",\n",
    "\t\"timestamp_create\": 1711482562896\n",
    "}\"\"\"\n",
    "\n",
    "req_data = json.loads(req_data_json)\n",
    "\n",
    "# Validate the captcha\n",
    "captcha_is_valid = captcha_validate(req_data.get('signature'), secret_key, req_data.get('captcha_str'), req_data.get('timestamp_create'), life_time)\n",
    "print ('Captcha is valid:', captcha_is_valid)\n",
    "print(read_captcha_data(log_path))"
   ]
  },
  {
   "cell_type": "code",
   "execution_count": 106,
   "metadata": {},
   "outputs": [],
   "source": [
    "# ##############################\n",
    "# ZOPE-API-CALL captcha(create|validate)\n",
    "# ##############################\n",
    "def captcha_func(self, do):\n",
    "\ttry:\n",
    "\t\trequest = self.REQUEST\n",
    "\texcept:\n",
    "\t\trequest = {}\n",
    "\tif do == 'create':\n",
    "\t\t# Create a captcha\n",
    "\t\tcaptcha_data = captcha_create(secret_key, life_time)\n",
    "\t\t# Create a JSON object from the captcha_dict\n",
    "\t\tcaptcha_data_json = json.dumps(captcha_data, indent=4)\n",
    "\t\t# Send the captcha_data_json to the client\n",
    "\t\treturn captcha_data_json\n",
    "\telif do == 'validate':\n",
    "\t\treq_data = {}\n",
    "\t\t# Get the relevant captcha data from the client request\n",
    "\t\tfor k in ['signature','captcha_str','timestamp_create']:\n",
    "\t\t\treq_data[k] = request.get(k,0)\n",
    "\t\t# Validate the captcha data\n",
    "\t\tcaptcha_is_valid = captcha_validate(req_data.get('signature'), secret_key, req_data.get('captcha_str'), req_data.get('timestamp_create'), life_time)\n",
    "\t\treturn captcha_is_valid and json.dumps({'captcha_is_valid':True}) or json.dumps({'captcha_is_valid':False})\n"
   ]
  },
  {
   "cell_type": "code",
   "execution_count": 112,
   "metadata": {},
   "outputs": [
    {
     "name": "stdout",
     "output_type": "stream",
     "text": [
      "{\"captcha_is_valid\": false}\n"
     ]
    }
   ],
   "source": [
    "print(captcha_func(self={}, do='validate'))"
   ]
  }
 ],
 "metadata": {
  "interpreter": {
   "hash": "09b598ff0e72718ab14b8f904c57db2c667c0c3d7580e9414081ecb307a95222"
  },
  "kernelspec": {
   "display_name": "Python 3.8.10 64-bit ('vpy38': venv)",
   "name": "python3"
  },
  "language_info": {
   "codemirror_mode": {
    "name": "ipython",
    "version": 3
   },
   "file_extension": ".py",
   "mimetype": "text/x-python",
   "name": "python",
   "nbconvert_exporter": "python",
   "pygments_lexer": "ipython3",
   "version": "3.8.13"
  },
  "orig_nbformat": 2
 },
 "nbformat": 4,
 "nbformat_minor": 2
}
