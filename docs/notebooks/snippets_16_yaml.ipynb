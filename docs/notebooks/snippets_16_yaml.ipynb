{
 "cells": [
  {
   "cell_type": "markdown",
   "metadata": {},
   "source": [
    "# YAML Model"
   ]
  },
  {
   "cell_type": "code",
   "execution_count": 114,
   "metadata": {},
   "outputs": [],
   "source": [
    "import ZODB\n",
    "from Products.Five.browser.tests.pages import SimpleView\n",
    "from Testing.makerequest import makerequest \t\t\t\t\t\t\t# makerequest(context)\n",
    "from Testing.ZopeTestCase.testZODBCompat import make_request_response \t# make_request_response()[1]\n",
    "\n",
    "from Products.zms import standard\n",
    "\n",
    "# Basic\n",
    "import os\n",
    "import re\n",
    "import shutil\n",
    "import tempfile\n",
    "import urllib\n",
    "import json\n",
    "import requests\n",
    "import yaml\n",
    "import sys"
   ]
  },
  {
   "cell_type": "markdown",
   "metadata": {},
   "source": [
    "## Step-2: Open ZODB database"
   ]
  },
  {
   "cell_type": "code",
   "execution_count": 116,
   "metadata": {},
   "outputs": [],
   "source": [
    "# Create a ZODB connection to an existing ZODB database file\n",
    "# Important: Fit working directory to your Zope instance\n",
    "\n",
    "try:\n",
    "\twd = '/home/zope/instance/zms5_dev/var'\n",
    "\tdb = ZODB.DB(os.path.join(wd, 'Data.fs'))\n",
    "\tconn = db.open()\n",
    "\troot = conn.root\n",
    "\t###{'Application': <Application at >}\n",
    "except:\n",
    "\tdb.close()\n",
    "\tprint('Error: Database connection had to be closed before reopened.')"
   ]
  },
  {
   "cell_type": "markdown",
   "metadata": {},
   "source": [
    "## Step-3: Get ZODB Context"
   ]
  },
  {
   "cell_type": "code",
   "execution_count": 117,
   "metadata": {},
   "outputs": [],
   "source": [
    "# ZMS-Node /myzmsx/content\n",
    "# ##############################################\n",
    "context = root.Application.myzmsx.content \n",
    "# ##############################################\n",
    "\n",
    "# Add REQUEST to zmscontext object\n",
    "context = makerequest(context)\n",
    "# Add REQUEST vars\n",
    "context.REQUEST.environ.setdefault('SERVER_NAME','localhost')\n",
    "context.REQUEST.environ.setdefault('SERVER_PORT', '8092')\n",
    "context.REQUEST['URL' ]= 'http://localhost:8092'\n",
    "context.REQUEST.set('lang','ger')\n",
    "context.REQUEST.set('path_to_handle','')\n",
    "# Add RESPONSE\n",
    "context.REQUEST.set('RESPONSE', make_request_response()[1])\n",
    "\n",
    "zmscontext = context"
   ]
  },
  {
   "cell_type": "code",
   "execution_count": 122,
   "metadata": {},
   "outputs": [
    {
     "data": {
      "text/plain": [
       "[{'id': 'icon_clazz',\n",
       "  'name': 'Icon-Class (CSS)',\n",
       "  'mandatory': 0,\n",
       "  'multilang': 0,\n",
       "  'repetitive': 0,\n",
       "  'type': 'constant',\n",
       "  'keys': [],\n",
       "  'custom': 'icon-columns fas fa-columns',\n",
       "  'default': ''},\n",
       " {'id': 'e',\n",
       "  'name': 'Items',\n",
       "  'mandatory': 0,\n",
       "  'multilang': 0,\n",
       "  'repetitive': 1,\n",
       "  'type': '*',\n",
       "  'keys': ['type(ZMSObject)'],\n",
       "  'custom': '',\n",
       "  'default': ''},\n",
       " {'id': 'f_css_defaults',\n",
       "  'name': 'CSS Default',\n",
       "  'mandatory': 0,\n",
       "  'multilang': 0,\n",
       "  'repetitive': 0,\n",
       "  'type': 'constant',\n",
       "  'keys': [],\n",
       "  'custom': '@media only screen and (min-width: 576px) {\\r\\n\\tbody:not(.zmi) .ZMSFlexbox:not(.contentEditable) {\\r\\n\\t\\tdisplay: flex;\\r\\n\\t\\tflex-direction: row;\\r\\n\\t\\tjustify-content: space-between;\\r\\n\\t}\\r\\n\\tbody:not(.zmi) .ZMSFlexbox:not(.contentEditable) .ZMSFlexboxItem {\\r\\n\\t\\tflex-direction: column;\\r\\n\\t\\tbackground: rgba(0,0,0,.05);\\r\\n\\t\\tpadding: 1rem;\\r\\n\\t\\tmargin:1rem 0;\\r\\n\\t}\\r\\n\\tbody:not(.zmi) .ZMSFlexbox:not(.contentEditable) .ZMSFlexboxItem > * {\\r\\n\\t\\tmargin:0 !important;\\r\\n\\t\\tpadding:0 !important;\\r\\n\\t}\\r\\n\\tbody:not(.zmi) .ZMSFlexbox .ZMSFlexboxItem {\\r\\n\\t\\tflex-basis:calc((100% / var(--data-itemcount)) - 3rem);\\r\\n\\t}\\r\\n\\tbody:not(.zmi) .ZMSFlexbox .ZMSFlexboxItem .ZMSGraphic .graphic,\\r\\n\\tbody:not(.zmi) .ZMSFlexbox .ZMSFlexboxItem .ZMSGraphic .graphic img {\\r\\n\\t\\twidth:100% !important;\\r\\n\\t\\tmax-width:100% !important;\\r\\n\\t}\\r\\n\\tbody:not(.zmi) .ZMSFlexbox .ZMSFlexboxItem .ZMSGraphic .text {\\r\\n\\t\\tpadding-top:1em;\\r\\n\\t}\\r\\n}',\n",
       "  'default': ''},\n",
       " {'id': 'standard_html',\n",
       "  'name': 'Template: Box-Container',\n",
       "  'mandatory': 0,\n",
       "  'multilang': 0,\n",
       "  'repetitive': 0,\n",
       "  'type': 'zpt',\n",
       "  'keys': [],\n",
       "  'default': ''}]"
      ]
     },
     "execution_count": 122,
     "metadata": {},
     "output_type": "execute_result"
    }
   ],
   "source": [
    "zmscontext.getMetaobjManager().getMetaobj('ZMSFlexbox')['attrs']"
   ]
  },
  {
   "cell_type": "code",
   "execution_count": 125,
   "metadata": {},
   "outputs": [
    {
     "data": {
      "text/plain": [
       "{'id': 'f_css_defaults',\n",
       " 'name': 'CSS Default',\n",
       " 'mandatory': 0,\n",
       " 'multilang': 0,\n",
       " 'repetitive': 0,\n",
       " 'type': 'constant',\n",
       " 'keys': [],\n",
       " 'custom': '@media only screen and (min-width: 576px) {\\r\\n\\tbody:not(.zmi) .ZMSFlexbox:not(.contentEditable) {\\r\\n\\t\\tdisplay: flex;\\r\\n\\t\\tflex-direction: row;\\r\\n\\t\\tjustify-content: space-between;\\r\\n\\t}\\r\\n\\tbody:not(.zmi) .ZMSFlexbox:not(.contentEditable) .ZMSFlexboxItem {\\r\\n\\t\\tflex-direction: column;\\r\\n\\t\\tbackground: rgba(0,0,0,.05);\\r\\n\\t\\tpadding: 1rem;\\r\\n\\t\\tmargin:1rem 0;\\r\\n\\t}\\r\\n\\tbody:not(.zmi) .ZMSFlexbox:not(.contentEditable) .ZMSFlexboxItem > * {\\r\\n\\t\\tmargin:0 !important;\\r\\n\\t\\tpadding:0 !important;\\r\\n\\t}\\r\\n\\tbody:not(.zmi) .ZMSFlexbox .ZMSFlexboxItem {\\r\\n\\t\\tflex-basis:calc((100% / var(--data-itemcount)) - 3rem);\\r\\n\\t}\\r\\n\\tbody:not(.zmi) .ZMSFlexbox .ZMSFlexboxItem .ZMSGraphic .graphic,\\r\\n\\tbody:not(.zmi) .ZMSFlexbox .ZMSFlexboxItem .ZMSGraphic .graphic img {\\r\\n\\t\\twidth:100% !important;\\r\\n\\t\\tmax-width:100% !important;\\r\\n\\t}\\r\\n\\tbody:not(.zmi) .ZMSFlexbox .ZMSFlexboxItem .ZMSGraphic .text {\\r\\n\\t\\tpadding-top:1em;\\r\\n\\t}\\r\\n}',\n",
       " 'default': ''}"
      ]
     },
     "execution_count": 125,
     "metadata": {},
     "output_type": "execute_result"
    }
   ],
   "source": [
    "data = zmscontext.getMetaobjManager().getMetaobj('ZMSFlexbox')['attrs'][2]\n",
    "data"
   ]
  },
  {
   "cell_type": "code",
   "execution_count": 126,
   "metadata": {},
   "outputs": [
    {
     "name": "stdout",
     "output_type": "stream",
     "text": [
      "{'id': 'f_css_defaults', 'name': 'CSS Default', 'mandatory': 0, 'multilang': 0, 'repetitive': 0, 'type': 'constant', 'keys': [], 'custom': '|\\n@media only screen and (min-width: 576px) {\\n\\tbody:not(.zmi) .ZMSFlexbox:not(.contentEditable) {\\n\\t\\tdisplay: flex;\\n\\t\\tflex-direction: row;\\n\\t\\tjustify-content: space-between;\\n\\t}\\n\\tbody:not(.zmi) .ZMSFlexbox:not(.contentEditable) .ZMSFlexboxItem {\\n\\t\\tflex-direction: column;\\n\\t\\tbackground: rgba(0,0,0,.05);\\n\\t\\tpadding: 1rem;\\n\\t\\tmargin:1rem 0;\\n\\t}\\n\\tbody:not(.zmi) .ZMSFlexbox:not(.contentEditable) .ZMSFlexboxItem > * {\\n\\t\\tmargin:0 !important;\\n\\t\\tpadding:0 !important;\\n\\t}\\n\\tbody:not(.zmi) .ZMSFlexbox .ZMSFlexboxItem {\\n\\t\\tflex-basis:calc((100% / var(--data-itemcount)) - 3rem);\\n\\t}\\n\\tbody:not(.zmi) .ZMSFlexbox .ZMSFlexboxItem .ZMSGraphic .graphic,\\n\\tbody:not(.zmi) .ZMSFlexbox .ZMSFlexboxItem .ZMSGraphic .graphic img {\\n\\t\\twidth:100% !important;\\n\\t\\tmax-width:100% !important;\\n\\t}\\n\\tbody:not(.zmi) .ZMSFlexbox .ZMSFlexboxItem .ZMSGraphic .text {\\n\\t\\tpadding-top:1em;\\n\\t}\\n}', 'default': ''}\n"
     ]
    }
   ],
   "source": [
    "out_zms = data.copy()\n",
    "out_zms['custom'] = standard.str_yaml(out_zms['custom'])\n",
    "print(out_zms)"
   ]
  },
  {
   "cell_type": "code",
   "execution_count": 127,
   "metadata": {},
   "outputs": [
    {
     "name": "stdout",
     "output_type": "stream",
     "text": [
      "id: f_css_defaults\n",
      "name: CSS Default\n",
      "mandatory: 0\n",
      "multilang: 0\n",
      "repetitive: 0\n",
      "type: constant\n",
      "keys: []\n",
      "custom: |-\n",
      "  @media only screen and (min-width: 576px) {\n",
      "  \tbody:not(.zmi) .ZMSFlexbox:not(.contentEditable) {\n",
      "  \t\tdisplay: flex;\n",
      "  \t\tflex-direction: row;\n",
      "  \t\tjustify-content: space-between;\n",
      "  \t}\n",
      "  \tbody:not(.zmi) .ZMSFlexbox:not(.contentEditable) .ZMSFlexboxItem {\n",
      "  \t\tflex-direction: column;\n",
      "  \t\tbackground: rgba(0,0,0,.05);\n",
      "  \t\tpadding: 1rem;\n",
      "  \t\tmargin:1rem 0;\n",
      "  \t}\n",
      "  \tbody:not(.zmi) .ZMSFlexbox:not(.contentEditable) .ZMSFlexboxItem > * {\n",
      "  \t\tmargin:0 !important;\n",
      "  \t\tpadding:0 !important;\n",
      "  \t}\n",
      "  \tbody:not(.zmi) .ZMSFlexbox .ZMSFlexboxItem {\n",
      "  \t\tflex-basis:calc((100% / var(--data-itemcount)) - 3rem);\n",
      "  \t}\n",
      "  \tbody:not(.zmi) .ZMSFlexbox .ZMSFlexboxItem .ZMSGraphic .graphic,\n",
      "  \tbody:not(.zmi) .ZMSFlexbox .ZMSFlexboxItem .ZMSGraphic .graphic img {\n",
      "  \t\twidth:100% !important;\n",
      "  \t\tmax-width:100% !important;\n",
      "  \t}\n",
      "  \tbody:not(.zmi) .ZMSFlexbox .ZMSFlexboxItem .ZMSGraphic .text {\n",
      "  \t\tpadding-top:1em;\n",
      "  \t}\n",
      "  }\n",
      "default: ''\n"
     ]
    }
   ],
   "source": [
    "from ruamel.yaml import YAML\n",
    "from ruamel.yaml.scalarstring import LiteralScalarString\n",
    "\n",
    "yaml = YAML()\n",
    "yaml.preserve_quotes = True\n",
    "\n",
    "out_yaml = data.copy()\n",
    "out_yaml['custom'] = LiteralScalarString(out_yaml['custom'])\n",
    "yaml.dump(out_yaml, sys.stdout)\n"
   ]
  }
 ],
 "metadata": {
  "kernelspec": {
   "display_name": "vpy313",
   "language": "python",
   "name": "python3"
  },
  "language_info": {
   "codemirror_mode": {
    "name": "ipython",
    "version": 3
   },
   "file_extension": ".py",
   "mimetype": "text/x-python",
   "name": "python",
   "nbconvert_exporter": "python",
   "pygments_lexer": "ipython3",
   "version": "3.13.3"
  },
  "orig_nbformat": 2
 },
 "nbformat": 4,
 "nbformat_minor": 2
}
