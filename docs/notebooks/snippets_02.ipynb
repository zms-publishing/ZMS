{
 "cells": [
  {
   "cell_type": "markdown",
   "metadata": {},
   "source": [
    "# Calendar Rendering with Python calendar module"
   ]
  },
  {
   "cell_type": "code",
   "execution_count": 1,
   "metadata": {},
   "outputs": [],
   "source": [
    "# Inspired by https://www.huiwenteo.com/normal/2018/07/24/django-calendar.html\n",
    "import IPython\n",
    "\n",
    "from datetime import datetime, timedelta\n",
    "import dateutil.parser as dparser\n",
    "from calendar import HTMLCalendar\n",
    "import locale\n",
    "## IMPORTANT NOTE: first install your OS locale pack, e.g.\n",
    "## sudo apt-get install language-pack-de-base"
   ]
  },
  {
   "cell_type": "code",
   "execution_count": 2,
   "metadata": {},
   "outputs": [
    {
     "data": {
      "text/plain": [
       "'de_DE.UTF-8'"
      ]
     },
     "execution_count": 2,
     "metadata": {},
     "output_type": "execute_result"
    }
   ],
   "source": [
    "locale.setlocale(locale.LC_ALL, 'de_DE.UTF-8')\n",
    "\n",
    "# # BASIC TESTS\n",
    "# htmlcal = calendar.HTMLCalendar(calendar.MONDAY)\n",
    "# print(htmlcal.formatmonth(2022, 5))\n",
    "# IPython.display.HTML(htmlcal.formatmonth(2022, 5))"
   ]
  },
  {
   "cell_type": "code",
   "execution_count": 3,
   "metadata": {},
   "outputs": [],
   "source": [
    "events = [\n",
    "\t{\n",
    "\t\t'start_time':'2022-05-18 15:00',\n",
    "\t\t'end_time':'2022-05-18 18:00',\n",
    "\t\t'title':'Exam of Economics 1st Semester Part 1',\n",
    "\t\t'description':'Its gonna be hard, but not impossible',\n",
    "\t},\n",
    "\t{\n",
    "\t\t'start_time':'2022-05-20 15:00',\n",
    "\t\t'end_time':'2022-05-20 18:00',\n",
    "\t\t'title':'Exam of Economics 1st Semester Part 2',\n",
    "\t\t'description':'Its gonna be hard and impossible',\n",
    "\t}\n",
    "]\n",
    "\n",
    "\n",
    "# HELPERS\n",
    "def parse_dt(s='2022-05-20 18:00'):\n",
    "\treturn dparser.parse(s).date()\n",
    "\n",
    "def filter_events_by_date(events, year, month, day):\n",
    "\tthis_dt = datetime(year, month, day).date()\n",
    "\treturn [e for e in events if parse_dt(e.get('start_time',''))==this_dt]"
   ]
  },
  {
   "cell_type": "code",
   "execution_count": 4,
   "metadata": {},
   "outputs": [],
   "source": [
    "class Calendar(HTMLCalendar):\n",
    "\tdef __init__(self, year=None, month=None, events=[]):\n",
    "\t\tself.year = year\n",
    "\t\tself.month = month\n",
    "\t\tself.events = events\n",
    "\t\tself.td_style='vertical-align:top;width:6rem;'\n",
    "\t\tself.e_style='width:6rem;white-space:nowrap;overflow:hidden;text-overflow:ellipsis;'\n",
    "\t\tsuper(Calendar, self).__init__()\n",
    "\n",
    "\t# formats a day as a td\n",
    "\t# filter events by day\n",
    "\tdef formatday(self, day, weekday):\n",
    "\t\t\"\"\"\n",
    "\t\tReturn a day as a table cell.\n",
    "\t\t\"\"\"\n",
    "\t\tif day == 0:\n",
    "\t\t\t# day outside month\n",
    "\t\t\treturn '<td class=\"%s\">&nbsp;</td>' % (self.cssclass_noday)\n",
    "\t\telse:\n",
    "\t\t\tevents_dt = filter_events_by_date(events, self.year, self.month, day)\n",
    "\t\t\tevents_titles = [e.get('title','') for e in events_dt]\n",
    "\t\t\ts = '<br/>'.join(events_titles)\n",
    "\t\t\t# return '<td class=\"%s\">%d</td>' % (self.cssclasses[weekday], day)\n",
    "\t\t\treturn '<td style=\"%s\" class=\"%s\" title=\"%s\">%d <p style=\"%s\">%s</p></td>' % (self.td_style, self.cssclasses[weekday], s, day, self.e_style, s)"
   ]
  },
  {
   "cell_type": "code",
   "execution_count": 5,
   "metadata": {},
   "outputs": [
    {
     "data": {
      "text/html": [
       "<table border=\"0\" cellpadding=\"0\" cellspacing=\"0\" class=\"month\">\n",
       "<tr><th colspan=\"7\" class=\"month\">Mai 2022</th></tr>\n",
       "<tr><th class=\"mon\">Mo</th><th class=\"tue\">Di</th><th class=\"wed\">Mi</th><th class=\"thu\">Do</th><th class=\"fri\">Fr</th><th class=\"sat\">Sa</th><th class=\"sun\">So</th></tr>\n",
       "<tr><td class=\"noday\">&nbsp;</td><td class=\"noday\">&nbsp;</td><td class=\"noday\">&nbsp;</td><td class=\"noday\">&nbsp;</td><td class=\"noday\">&nbsp;</td><td class=\"noday\">&nbsp;</td><td style=\"vertical-align:top;width:6rem;\" class=\"sun\" title=\"\">1 <p style=\"width:6rem;white-space:nowrap;overflow:hidden;text-overflow:ellipsis;\"></p></td></tr>\n",
       "<tr><td style=\"vertical-align:top;width:6rem;\" class=\"mon\" title=\"\">2 <p style=\"width:6rem;white-space:nowrap;overflow:hidden;text-overflow:ellipsis;\"></p></td><td style=\"vertical-align:top;width:6rem;\" class=\"tue\" title=\"\">3 <p style=\"width:6rem;white-space:nowrap;overflow:hidden;text-overflow:ellipsis;\"></p></td><td style=\"vertical-align:top;width:6rem;\" class=\"wed\" title=\"\">4 <p style=\"width:6rem;white-space:nowrap;overflow:hidden;text-overflow:ellipsis;\"></p></td><td style=\"vertical-align:top;width:6rem;\" class=\"thu\" title=\"\">5 <p style=\"width:6rem;white-space:nowrap;overflow:hidden;text-overflow:ellipsis;\"></p></td><td style=\"vertical-align:top;width:6rem;\" class=\"fri\" title=\"\">6 <p style=\"width:6rem;white-space:nowrap;overflow:hidden;text-overflow:ellipsis;\"></p></td><td style=\"vertical-align:top;width:6rem;\" class=\"sat\" title=\"\">7 <p style=\"width:6rem;white-space:nowrap;overflow:hidden;text-overflow:ellipsis;\"></p></td><td style=\"vertical-align:top;width:6rem;\" class=\"sun\" title=\"\">8 <p style=\"width:6rem;white-space:nowrap;overflow:hidden;text-overflow:ellipsis;\"></p></td></tr>\n",
       "<tr><td style=\"vertical-align:top;width:6rem;\" class=\"mon\" title=\"\">9 <p style=\"width:6rem;white-space:nowrap;overflow:hidden;text-overflow:ellipsis;\"></p></td><td style=\"vertical-align:top;width:6rem;\" class=\"tue\" title=\"\">10 <p style=\"width:6rem;white-space:nowrap;overflow:hidden;text-overflow:ellipsis;\"></p></td><td style=\"vertical-align:top;width:6rem;\" class=\"wed\" title=\"\">11 <p style=\"width:6rem;white-space:nowrap;overflow:hidden;text-overflow:ellipsis;\"></p></td><td style=\"vertical-align:top;width:6rem;\" class=\"thu\" title=\"\">12 <p style=\"width:6rem;white-space:nowrap;overflow:hidden;text-overflow:ellipsis;\"></p></td><td style=\"vertical-align:top;width:6rem;\" class=\"fri\" title=\"\">13 <p style=\"width:6rem;white-space:nowrap;overflow:hidden;text-overflow:ellipsis;\"></p></td><td style=\"vertical-align:top;width:6rem;\" class=\"sat\" title=\"\">14 <p style=\"width:6rem;white-space:nowrap;overflow:hidden;text-overflow:ellipsis;\"></p></td><td style=\"vertical-align:top;width:6rem;\" class=\"sun\" title=\"\">15 <p style=\"width:6rem;white-space:nowrap;overflow:hidden;text-overflow:ellipsis;\"></p></td></tr>\n",
       "<tr><td style=\"vertical-align:top;width:6rem;\" class=\"mon\" title=\"\">16 <p style=\"width:6rem;white-space:nowrap;overflow:hidden;text-overflow:ellipsis;\"></p></td><td style=\"vertical-align:top;width:6rem;\" class=\"tue\" title=\"\">17 <p style=\"width:6rem;white-space:nowrap;overflow:hidden;text-overflow:ellipsis;\"></p></td><td style=\"vertical-align:top;width:6rem;\" class=\"wed\" title=\"Exam of Economics 1st Semester Part 1\">18 <p style=\"width:6rem;white-space:nowrap;overflow:hidden;text-overflow:ellipsis;\">Exam of Economics 1st Semester Part 1</p></td><td style=\"vertical-align:top;width:6rem;\" class=\"thu\" title=\"\">19 <p style=\"width:6rem;white-space:nowrap;overflow:hidden;text-overflow:ellipsis;\"></p></td><td style=\"vertical-align:top;width:6rem;\" class=\"fri\" title=\"Exam of Economics 1st Semester Part 2\">20 <p style=\"width:6rem;white-space:nowrap;overflow:hidden;text-overflow:ellipsis;\">Exam of Economics 1st Semester Part 2</p></td><td style=\"vertical-align:top;width:6rem;\" class=\"sat\" title=\"\">21 <p style=\"width:6rem;white-space:nowrap;overflow:hidden;text-overflow:ellipsis;\"></p></td><td style=\"vertical-align:top;width:6rem;\" class=\"sun\" title=\"\">22 <p style=\"width:6rem;white-space:nowrap;overflow:hidden;text-overflow:ellipsis;\"></p></td></tr>\n",
       "<tr><td style=\"vertical-align:top;width:6rem;\" class=\"mon\" title=\"\">23 <p style=\"width:6rem;white-space:nowrap;overflow:hidden;text-overflow:ellipsis;\"></p></td><td style=\"vertical-align:top;width:6rem;\" class=\"tue\" title=\"\">24 <p style=\"width:6rem;white-space:nowrap;overflow:hidden;text-overflow:ellipsis;\"></p></td><td style=\"vertical-align:top;width:6rem;\" class=\"wed\" title=\"\">25 <p style=\"width:6rem;white-space:nowrap;overflow:hidden;text-overflow:ellipsis;\"></p></td><td style=\"vertical-align:top;width:6rem;\" class=\"thu\" title=\"\">26 <p style=\"width:6rem;white-space:nowrap;overflow:hidden;text-overflow:ellipsis;\"></p></td><td style=\"vertical-align:top;width:6rem;\" class=\"fri\" title=\"\">27 <p style=\"width:6rem;white-space:nowrap;overflow:hidden;text-overflow:ellipsis;\"></p></td><td style=\"vertical-align:top;width:6rem;\" class=\"sat\" title=\"\">28 <p style=\"width:6rem;white-space:nowrap;overflow:hidden;text-overflow:ellipsis;\"></p></td><td style=\"vertical-align:top;width:6rem;\" class=\"sun\" title=\"\">29 <p style=\"width:6rem;white-space:nowrap;overflow:hidden;text-overflow:ellipsis;\"></p></td></tr>\n",
       "<tr><td style=\"vertical-align:top;width:6rem;\" class=\"mon\" title=\"\">30 <p style=\"width:6rem;white-space:nowrap;overflow:hidden;text-overflow:ellipsis;\"></p></td><td style=\"vertical-align:top;width:6rem;\" class=\"tue\" title=\"\">31 <p style=\"width:6rem;white-space:nowrap;overflow:hidden;text-overflow:ellipsis;\"></p></td><td class=\"noday\">&nbsp;</td><td class=\"noday\">&nbsp;</td><td class=\"noday\">&nbsp;</td><td class=\"noday\">&nbsp;</td><td class=\"noday\">&nbsp;</td></tr>\n",
       "</table>\n"
      ],
      "text/plain": [
       "<IPython.core.display.HTML object>"
      ]
     },
     "execution_count": 5,
     "metadata": {},
     "output_type": "execute_result"
    }
   ],
   "source": [
    "htmlcal = Calendar(year=2022,month=5,events=events)\n",
    "IPython.display.HTML(htmlcal.formatmonth(htmlcal.year, htmlcal.month))\n"
   ]
  },
  {
   "cell_type": "code",
   "execution_count": 7,
   "metadata": {},
   "outputs": [
    {
     "data": {
      "text/plain": [
       "[{'start_time': '2022-05-20 15:00',\n",
       "  'end_time': '2022-05-20 18:00',\n",
       "  'title': 'Exam of Economics 1st Semester Part 2',\n",
       "  'description': 'Its gonna be hard and impossible'}]"
      ]
     },
     "execution_count": 7,
     "metadata": {},
     "output_type": "execute_result"
    }
   ],
   "source": [
    "## TEST EVENT FILTER\n",
    "filter_events_by_date(events, 2022, 5, 20)\n"
   ]
  }
 ],
 "metadata": {
  "interpreter": {
   "hash": "09b598ff0e72718ab14b8f904c57db2c667c0c3d7580e9414081ecb307a95222"
  },
  "kernelspec": {
   "display_name": "Python 3.8.10 ('vpy38')",
   "language": "python",
   "name": "python3"
  },
  "language_info": {
   "codemirror_mode": {
    "name": "ipython",
    "version": 3
   },
   "file_extension": ".py",
   "mimetype": "text/x-python",
   "name": "python",
   "nbconvert_exporter": "python",
   "pygments_lexer": "ipython3",
   "version": "3.8.10"
  },
  "orig_nbformat": 2
 },
 "nbformat": 4,
 "nbformat_minor": 2
}
