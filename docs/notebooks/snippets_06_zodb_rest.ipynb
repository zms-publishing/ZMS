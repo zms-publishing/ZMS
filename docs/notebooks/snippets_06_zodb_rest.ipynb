{
 "cells": [
  {
   "attachments": {},
   "cell_type": "markdown",
   "metadata": {},
   "source": [
    "# Applying ZMS REST API on ZODB directly"
   ]
  },
  {
   "cell_type": "code",
   "execution_count": 34,
   "metadata": {},
   "outputs": [
    {
     "data": {
      "text/plain": [
       "'/home/zope/instance/zms5_desy/notebooks'"
      ]
     },
     "execution_count": 34,
     "metadata": {},
     "output_type": "execute_result"
    }
   ],
   "source": [
    "import ZODB\n",
    "import os\n",
    "from Products.Five.browser.tests.pages import SimpleView\n",
    "from Products.zms import standard\n",
    "from Products.zms import rest_api\n",
    "import json\n",
    "\n",
    "os.getcwd()"
   ]
  },
  {
   "cell_type": "code",
   "execution_count": 35,
   "metadata": {},
   "outputs": [],
   "source": [
    "# Zope/src/Testing/makerequest.py\n",
    "def makerequest(app, stdout=None, environ=None):\n",
    "    from io import BytesIO\n",
    "    from ZPublisher.BaseRequest import RequestContainer\n",
    "    from ZPublisher.HTTPRequest import HTTPRequest\n",
    "    from ZPublisher.HTTPResponse import HTTPResponse\n",
    "\n",
    "    if stdout is None:\n",
    "        stdout = BytesIO()\n",
    "    if environ is None:\n",
    "        environ = {}\n",
    "    resp = HTTPResponse(stdout=stdout)\n",
    "    environ.setdefault('SERVER_NAME', 'nohost')\n",
    "    environ.setdefault('SERVER_PORT', '80')\n",
    "    environ.setdefault('REQUEST_METHOD', 'GET')\n",
    "    req = HTTPRequest(BytesIO(), environ, resp)\n",
    "    req._steps = ['noobject']  # Fake a published object.\n",
    "    req['ACTUAL_URL'] = req.get('URL')  # Zope 2.7.4\n",
    "\n",
    "    # Set default skin so that the request is usable for view look-ups.\n",
    "    from zope.publisher.browser import setDefaultSkin\n",
    "    setDefaultSkin(req)\n",
    "\n",
    "    requestcontainer = RequestContainer(REQUEST=req)\n",
    "    return app.__of__(requestcontainer)"
   ]
  },
  {
   "cell_type": "code",
   "execution_count": 36,
   "metadata": {},
   "outputs": [],
   "source": [
    "def makeresponse():\n",
    "    from io import StringIO\n",
    "    from ZPublisher.HTTPResponse import HTTPResponse\n",
    "    stdout = StringIO()\n",
    "    resp = HTTPResponse(stdout=stdout)\n",
    "    return resp"
   ]
  },
  {
   "cell_type": "code",
   "execution_count": 37,
   "metadata": {},
   "outputs": [],
   "source": [
    "# Create a ZODB connection to an existing ZODB database file\n",
    "try:\n",
    "\tdb = ZODB.DB(os.path.join(os.getcwd(), 'Data.fs'))\n",
    "\tconn = db.open()\n",
    "\troot = conn.root\n",
    "\t###{'Application': <Application at >}\n",
    "except:\n",
    "\tdb.close()\n",
    "\tprint('Error: Database connection had to be closed before reopened.')"
   ]
  },
  {
   "cell_type": "code",
   "execution_count": 38,
   "metadata": {},
   "outputs": [],
   "source": [
    "# ZMS as 'context' object <Acquisition.ImplicitAcquisitionWrapper>\n",
    "context = root.Application.myzmsx.content \n",
    "# Default REQUEST <Special Object Used to Force Acquisition>\n",
    "# REQUEST = conn.root()['Application'].REQUEST"
   ]
  },
  {
   "cell_type": "code",
   "execution_count": 39,
   "metadata": {},
   "outputs": [
    {
     "name": "stdout",
     "output_type": "stream",
     "text": [
      "<Products.zms.zms.ZMS object at 0x7fcc2490dc80 oid 0xd in <Connection at 7fcc249a2d30>>\n",
      "['ger', 'eng']\n",
      "ger\n",
      "test_value\n"
     ]
    }
   ],
   "source": [
    "# Add REQUEST to context object\n",
    "context = makerequest(context)\n",
    "# Add REQUEST vars\n",
    "context.REQUEST.set('lang','ger')\n",
    "context.REQUEST.set('path_to_handle','')\n",
    "# Add RESPONSE\n",
    "context.REQUEST.set('RESPONSE', makeresponse())\n",
    "# Add RESPONSE vars\n",
    "context.REQUEST.RESPONSE.setHeader('test_header','test_value')\n",
    "# Simple ZMS-API\n",
    "langs = context.getLangIds()\n",
    "\n",
    "print(context)\n",
    "print(langs)\n",
    "print(context.REQUEST.lang)\n",
    "print(context.REQUEST.RESPONSE.getHeader('test_header'))"
   ]
  },
  {
   "cell_type": "code",
   "execution_count": 40,
   "metadata": {},
   "outputs": [
    {
     "name": "stdout",
     "output_type": "stream",
     "text": [
      "ZMS - Python-based contentmanagement system for science, technology and medicine\n",
      "['e5', 'e12', 'e22', 'e34', 'e45', 'e57', 'e88', 'e90', 'e2', 'e97', 'e101', 'e133']\n",
      "2022-07-04 22:35\n",
      "{'id': 'e97', 'meta_id': 'ZMSFlexbox', 'uid': 'uid:a31e70dd-301d-4ccd-bf44-c6c6d77a125c', 'getPath': '/myzmsx/content/e97'}\n",
      "[\n",
      "  {\n",
      "    \"id\": \"e98\",\n",
      "    \"meta_id\": \"ZMSTextarea\",\n",
      "    \"uid\": \"uid:e092ab8b-6511-416b-9987-0754f51b5642\",\n",
      "    \"getPath\": \"/myzmsx/content/e97/e98\"\n",
      "  },\n",
      "  {\n",
      "    \"id\": \"e99\",\n",
      "    \"meta_id\": \"ZMSTextarea\",\n",
      "    \"uid\": \"uid:61865102-55db-49c8-873d-a913da6d2757\",\n",
      "    \"getPath\": \"/myzmsx/content/e97/e99\"\n",
      "  },\n",
      "  {\n",
      "    \"id\": \"e100\",\n",
      "    \"meta_id\": \"ZMSLinkElement\",\n",
      "    \"uid\": \"uid:eaf50517-05d8-421f-95a6-cb277004f284\",\n",
      "    \"getPath\": \"/myzmsx/content/e97/e100\"\n",
      "  }\n",
      "]\n"
     ]
    }
   ],
   "source": [
    "lang = context.REQUEST.lang\n",
    "request = context.REQUEST\n",
    "\n",
    "print(context.attr('title'))\n",
    "\n",
    "print( [ id for id in context.objectIds() if id.startswith('e') ] )\n",
    "\n",
    "print(context.last_modified(context.e97))\n",
    "\n",
    "print(rest_api.get_meta_data(context.e97))\n",
    "\n",
    "jsn = rest_api.RestApiController(context,request).list_tree_nodes(context.e97, request)[1]\n",
    "print(json.dumps(jsn,indent=2))"
   ]
  },
  {
   "cell_type": "code",
   "execution_count": 41,
   "metadata": {},
   "outputs": [],
   "source": [
    "# Finally close ZODB connection\n",
    "db.close()"
   ]
  }
 ],
 "metadata": {
  "kernelspec": {
   "display_name": "vpy38",
   "language": "python",
   "name": "python3"
  },
  "language_info": {
   "codemirror_mode": {
    "name": "ipython",
    "version": 3
   },
   "file_extension": ".py",
   "mimetype": "text/x-python",
   "name": "python",
   "nbconvert_exporter": "python",
   "pygments_lexer": "ipython3",
   "version": "3.8.10"
  },
  "orig_nbformat": 4
 },
 "nbformat": 4,
 "nbformat_minor": 2
}
