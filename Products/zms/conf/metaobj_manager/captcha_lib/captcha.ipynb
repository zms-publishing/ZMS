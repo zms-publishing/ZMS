{
 "cells": [
  {
   "cell_type": "markdown",
   "metadata": {},
   "source": [
    "# Form Captcha with 4 Digits\n",
    "The notebook code provides two basic funktions for 1. creating an image from a string (using PIL) and 2. creating a hash value based on that string plus a secret string. The created image will be shown on an input form to verify that a user is a human and not a bot. Hash value and creation time will added as hidden fields to the form. The hash value can be used to verify the input string. The creation time can be used to set a time limit for the input."
   ]
  },
  {
   "cell_type": "markdown",
   "metadata": {},
   "source": [
    "## Functions"
   ]
  },
  {
   "cell_type": "code",
   "execution_count": 21,
   "metadata": {},
   "outputs": [],
   "source": [
    "from PIL import Image, ImageDraw, ImageFont\n",
    "import hashlib\n",
    "import random\n",
    "from datetime import datetime, timedelta\n",
    "import json\n",
    "import base64\n",
    "from io import BytesIO\n",
    "\n",
    "# GLOBAL CONSTANTS\n",
    "secret_key='uiwe#sdfj$%sdfj'\n",
    "life_time=600\n",
    "font_path = \"/usr/share/fonts/truetype/freefont/DejaVuSansMono-Bold.ttf\"\n",
    "\n",
    "# HELPER FUNCTIONS\n",
    "# [1] Create an image object from a given text of 4 digits\n",
    "def create_image(text):\n",
    "\t# create an image with the given text\n",
    "\timage = Image.new(\"RGB\", (100, 38), (0, 0, 0))\n",
    "\t# create a drawing object\n",
    "\tdraw = ImageDraw.Draw(image)\n",
    "\t# set the font of the text\n",
    "\tfont = ImageFont.truetype(font_path, 36)\n",
    "\t# draw the text on the image\n",
    "\tdraw.text((5, -3), text, font=font, fill=(255, 255, 255))\n",
    "\t# draw.line((0,8, 100,30), fill=(0,0,0), width=3)\n",
    "\t# draw.line((0,30, 80,0), fill=(255,255,255), width=3)\n",
    "\t# create a BytesIO object\n",
    "\tbuffered = BytesIO()\n",
    "\t# save image to the BytesIO object\n",
    "\timage.save(buffered, format=\"PNG\")\n",
    "\t# get the value of the BytesIO object\n",
    "\timage_bytes = buffered.getvalue()\n",
    "\timage_str = base64.b64encode(image_bytes).decode(\"utf-8\")\n",
    "\t# return data_uri\n",
    "\treturn f\"data:image/png;base64,{image_str}\"\n",
    "\n",
    "\n",
    "# [2] Create hash of a given string\n",
    "def encrypt_password(pw, algorithm='sha1', hex=False):\n",
    "\talgorithm = algorithm.lower()\n",
    "\talgorithm = algorithm=='sha-1' and 'sha1' or algorithm\n",
    "\tenc = None\n",
    "\tif algorithm in list(hashlib.algorithms_available):\n",
    "\t\th = hashlib.new(algorithm)\n",
    "\t\th.update(pw.encode())\n",
    "\t\tif hex:\n",
    "\t\t\tenc = h.hexdigest()\n",
    "\t\telse:\n",
    "\t\t\tenc = h.digest()\n",
    "\treturn enc\n",
    "\n",
    "# #############################\n",
    "# MAIN FUNCTIONS\n",
    "# ##############################\n",
    "# [A] Create Captcha with global constants:\n",
    "#\t@secret_key\n",
    "#\t@life_time\n",
    "def captcha_create(secret_key='uiwe#sdfj$%sdfj', life_time=600):\n",
    "\t# generate a random string\n",
    "\tcaptcha_str = str(random.randint(1000, 9999))\n",
    "\t# create a public key from the secret key and the captcha string\n",
    "\tpublic_key = encrypt_password(secret_key + captcha_str, 'sha-1', True)\n",
    "\t# create captcha image as data-uri\n",
    "\tcaptcha_data_uri = create_image(captcha_str)\n",
    "\t# create a timestamp\n",
    "\ttimestamp_create = datetime.timestamp(datetime.now()) * 1000\n",
    "\n",
    "\t# create a dictionary to store the captcha data\n",
    "\tcaptcha_dict = {\n",
    "\t\t'public_key': public_key,\t\t\t\t\t# Used to validate the captcha\n",
    "\t\t#'_captcha_str': captcha_str, \t\t\t\t# Private: to be entered by the user\n",
    "\t\t'timestamp_create': int(timestamp_create),\t# Used to validate the lifetime\n",
    "\t\t'life_time': life_time, \t\t\t\t\t# Needed to refresh the captcha after this time\n",
    "\t\t'captcha_data_uri': captcha_data_uri \t\t# Used to display the captcha image\n",
    "\t}\n",
    "\treturn captcha_dict\n",
    "\n",
    "# [B] Validate Captcha:\n",
    "#\t@public_key: the public key of the captcha\n",
    "#\t@secret_key: the secret key of the captcha\n",
    "#\t@captcha_str: the captcha string entered by the user\n",
    "#\t@timestamp_create: the timestamp when the captcha was created\n",
    "#\t@life_time: the life time of the captcha\n",
    "def captcha_validate(public_key, secret_key, captcha_str, timestamp_create, life_time):\n",
    "\tdt_create = datetime.utcfromtimestamp(float(timestamp_create) / 1e3)\n",
    "\tdt_receive = datetime.utcfromtimestamp((datetime.timestamp(datetime.now()) * 1000) / 1e3)\n",
    "\tis_intime = (dt_receive - dt_create).total_seconds() < life_time\n",
    "\tis_valid = public_key == encrypt_password(secret_key + str(captcha_str), 'sha-1', True)\n",
    "\treturn is_intime and is_valid\n"
   ]
  },
  {
   "cell_type": "markdown",
   "metadata": {},
   "source": [
    "## Create Captcha Image and Check Parameters"
   ]
  },
  {
   "cell_type": "code",
   "execution_count": 24,
   "metadata": {},
   "outputs": [
    {
     "name": "stdout",
     "output_type": "stream",
     "text": [
      "{\n",
      "    \"public_key\": \"e7aa89d031953dae7d597734c2bbe26f5c7d4bf8\",\n",
      "    \"timestamp_create\": 1711415928691,\n",
      "    \"life_time\": 600,\n",
      "    \"captcha_data_uri\": \"data:image/png;base64,iVBORw0KGgoAAAANSUhEUgAAAGQAAAAmCAIAAAC9EKlkAAAEeElEQVR4nO2aTUgqXRjHnRyMyaJSahuUWPQBglIUFUpgi6BVy6JFK6VFRJB9bAokqEWroi/TCKQWbYwWFSS1KALpgxIhXLQQwkyKXKjTx9zF3Dud64wzZ8YZX3mv/9V45jm/88x/nnPmzCAi+zdEEAR1jCCIMAgqUjK5K9CmDCXQ49wX3SPBBfVDyLB/romxjjK36TdHFEouSIpSgpLL5SL4KJFI0CEbGxuQ3Xd2dhjTgCeAgrnApaWllF6NjY2cvf5XCzxkKXV2dlosFgH8AgF9clC7u7uQTmEY5nA4hM1QccxKJpOicLIgu92u0WiyNx6CIMFgEJzwLpeLHgauOCsrKwIGSrdmCc68tbX16+uLkSnVmmU0GmtqasCWtbU1ARx20U3J8OlWWFi4ublZUPB7MuE4rlAoeBGETEOv1wvm7ff7z8/PBXAYla58VldXMyTPzMzU1dWRx/v7+3d3d3wJwtcs5I9gCphTjB45HI7MyaQMBsPY2Bh5/P7+brVaBUB4mzU8PJzJqkEX3SPqNog1hEKhcDqdcrmc/Dk+Ph4KhcSCs+n6+hpcF7e3tzm7EAQRCAQuLi6i0SiO48/Pzz6fD2bZBhd4OmFhYQGyqGdnZynO2dkZeRtSchBlfvwlvV6fcoUdHR28CLyebpw7+O/v762tLaVSyTKiTqfDcZyMj8fjtbW1ZLvkZi0vL4MDBAIBlmDyUqmfjB4RBHF7e1teXs5C4BQLAUVRcCpMTExQp6Q1C8Owt7c3cIDR0VGW+Mx3SfDvhsfHx4yE6elpKubm5gZFf7ZK0po1MDAA0hOJhFqtThfMeEkYhtXX109OTr6+vsK4tri4eHBwMDIy0tbWVl1drVQqUwig+vr6Uro3NDQkk0ny7Ofnp16vB89Ka9bp6SlId7vdjGF0j+gxVVVVj4+P7DHsohO8Xi8YIJfLLy8vqbPz8/MpBAnN0mg0KRYYjUYwAMYjUGazGQzGcbyoqIhXSuwE8FkUDAYxDEvpLqFZc3NzIPrh4YFsp3sEWSYIgkSjUbCXVqsVlhsjwWAwMObGqbKysnQDQb0boig6ODgItqyvr9NN4bWNJAgiHA6rVCqqhSVLdmXpiyikent7WW6FYGwkEgE5Ar6cRCIR9gBxKwtKHo9HXJtkMll7ezuISiQS9GWFL4E9Phtm0XFdXV2cvSwWi9VqBfc1oCoqKvx+P8g8PDwUncAuMRf4dMYHg0GYNYLcDYZCIbvdbjKZKisrURQtLi7W6XQ2my0cDqdge3p6RCfwulghZnFWqc1mg+GAW2dO7e3tSUEQXT+faMhRwXMIgphMJrDl4+PD6XSKm8HJyUl/f3/2CdQ0hO9SQN0cqgn8nDQ0NARGezyecDjMN610isViU1NTZrM5Ho//VwTZnyqBmYYIkf7vJaWlpU9PT+BDqru7++joCCYDhUKh0+laWlqam5u1Wq1arVapVCUlJbFY7OXl5erqyuv1ut3uWCwmHYFdPp8PfFtsamq6v7/n6MOrDvPKK6+88sorr39cvwDaTvINqalPjAAAAABJRU5ErkJggg==\"\n",
      "}\n"
     ]
    }
   ],
   "source": [
    "# Create a captcha\n",
    "captcha_data = captcha_create(secret_key, life_time)\n",
    "# Create a JSON object from the captcha_dict\n",
    "captcha_data_json = json.dumps(captcha_data, indent=4)\n",
    "# Send the captcha_data_json to the client\n",
    "print(captcha_data_json)"
   ]
  },
  {
   "cell_type": "markdown",
   "metadata": {},
   "source": [
    "# Validate Captcha Check Parameters"
   ]
  },
  {
   "cell_type": "code",
   "execution_count": 178,
   "metadata": {},
   "outputs": [
    {
     "name": "stdout",
     "output_type": "stream",
     "text": [
      "Captcha is valid: False\n"
     ]
    }
   ],
   "source": [
    "# Get the json data from the client request\n",
    "\n",
    "req_data_json = \"\"\"{\n",
    "\t\"public_key\": \"c49c364387c9e98d6789ecb6ce115e95152b4c15\",\n",
    "\t\"captcha_str\": \"4991\",\n",
    "\t\"timestamp_create\": 1711377081016\n",
    "}\"\"\"\n",
    "\n",
    "req_data = json.loads(req_data_json)\n",
    "\n",
    "# Validate the captcha\n",
    "captcha_is_valid = captcha_validate(req_data.get('public_key'), secret_key, req_data.get('captcha_str'), req_data.get('timestamp_create'), life_time)\n",
    "print ('Captcha is valid:', captcha_is_valid)"
   ]
  },
  {
   "cell_type": "code",
   "execution_count": 185,
   "metadata": {},
   "outputs": [],
   "source": [
    "# ##############################\n",
    "# ZOPE-API-CALL captcha(create|validate)\n",
    "# ##############################\n",
    "def captcha_func(self, do):\n",
    "\ttry:\n",
    "\t\trequest = self.REQUEST\n",
    "\texcept:\n",
    "\t\trequest = {}\n",
    "\tif do == 'create':\n",
    "\t\t# Create a captcha\n",
    "\t\tcaptcha_data = captcha_create(secret_key, life_time)\n",
    "\t\t# Create a JSON object from the captcha_dict\n",
    "\t\tcaptcha_data_json = json.dumps(captcha_data, indent=4)\n",
    "\t\t# Send the captcha_data_json to the client\n",
    "\t\treturn captcha_data_json\n",
    "\telif do == 'validate':\n",
    "\t\treq_data = {}\n",
    "\t\t# Get the relevant captcha data from the client request\n",
    "\t\tfor k in ['public_key','captcha_str','timestamp_create']:\n",
    "\t\t\treq_data[k] = request.get(k,0)\n",
    "\t\t# Validate the captcha data\n",
    "\t\tcaptcha_is_valid = captcha_validate(req_data.get('public_key'), secret_key, req_data.get('captcha_str'), req_data.get('timestamp_create'), life_time)\n",
    "\t\treturn captcha_is_valid and json.dumps({'captcha_is_valid':True}) or json.dumps({'captcha_is_valid':False})\n"
   ]
  },
  {
   "cell_type": "code",
   "execution_count": 190,
   "metadata": {},
   "outputs": [
    {
     "name": "stdout",
     "output_type": "stream",
     "text": [
      "{\"captcha_is_valid\": false}\n"
     ]
    }
   ],
   "source": [
    "print(captcha_func(self={}, do='validate'))"
   ]
  }
 ],
 "metadata": {
  "interpreter": {
   "hash": "09b598ff0e72718ab14b8f904c57db2c667c0c3d7580e9414081ecb307a95222"
  },
  "kernelspec": {
   "display_name": "Python 3.8.10 64-bit ('vpy38': venv)",
   "name": "python3"
  },
  "language_info": {
   "codemirror_mode": {
    "name": "ipython",
    "version": 3
   },
   "file_extension": ".py",
   "mimetype": "text/x-python",
   "name": "python",
   "nbconvert_exporter": "python",
   "pygments_lexer": "ipython3",
   "version": "3.8.10"
  },
  "orig_nbformat": 2
 },
 "nbformat": 4,
 "nbformat_minor": 2
}
