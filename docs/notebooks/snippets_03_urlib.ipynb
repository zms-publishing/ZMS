{
 "cells": [
  {
   "attachments": {},
   "cell_type": "markdown",
   "metadata": {},
   "source": [
    "# URL Parsing (e.g. came_from)"
   ]
  },
  {
   "cell_type": "code",
   "execution_count": 1,
   "metadata": {},
   "outputs": [],
   "source": [
    "import six\n",
    "from six.moves.urllib.parse import quote\n",
    "from six.moves.urllib.parse import unquote\n",
    "from six.moves.urllib.parse import urlparse\n",
    "from six.moves.urllib.parse import urlunparse"
   ]
  },
  {
   "cell_type": "code",
   "execution_count": 2,
   "metadata": {},
   "outputs": [
    {
     "name": "stdout",
     "output_type": "stream",
     "text": [
      "/internal/index_eng.html&lang=x%22%3E%3CsvG%20onLoad=prompt(/xss/)%3E\n"
     ]
    }
   ],
   "source": [
    "# Remove Server Name: Prevent from Switching the Server \n",
    "# https://github.com/zopefoundation/Products.PluggableAuthService/pull/87\n",
    "came_from = \"https://subdomain.mydomain.de/internal/index_eng.html&lang=x%22%3E%3CsvG%20onLoad=prompt(/xss/)%3E\"\n",
    "parsed = urlparse(came_from)\n",
    "came_from = urlunparse(('', '') + parsed[2:])\n",
    "print(came_from)"
   ]
  },
  {
   "cell_type": "code",
   "execution_count": 3,
   "metadata": {},
   "outputs": [
    {
     "name": "stdout",
     "output_type": "stream",
     "text": [
      "/internal/index_eng.html\n"
     ]
    }
   ],
   "source": [
    "# Split Off URL Parameters\n",
    "# came_from = \"https://subdomain.mydomain.de/internal/index_eng.html&lang=x%22%3E%3CsvG%20onLoad=prompt(/xss/)%3E\"\n",
    "came_spots = ['&','%']\n",
    "came_clean = min([came_from.split(spot)[0] for spot in came_spots], key=len)\n",
    "print(came_clean)"
   ]
  }
 ],
 "metadata": {
  "kernelspec": {
   "display_name": "Python 3 (ipykernel)",
   "language": "python",
   "name": "python3"
  },
  "language_info": {
   "codemirror_mode": {
    "name": "ipython",
    "version": 3
   },
   "file_extension": ".py",
   "mimetype": "text/x-python",
   "name": "python",
   "nbconvert_exporter": "python",
   "pygments_lexer": "ipython3",
   "version": "3.8.13"
  },
  "orig_nbformat": 4,
  "vscode": {
   "interpreter": {
    "hash": "20450481ae1e2916cb35a7ba462c352ef4504613f1a75f381e12d5a86701b657"
   }
  }
 },
 "nbformat": 4,
 "nbformat_minor": 2
}
