{
 "cells": [
  {
   "cell_type": "markdown",
   "metadata": {},
   "source": [
    "# Play with Dates"
   ]
  },
  {
   "cell_type": "markdown",
   "metadata": {},
   "source": [
    "## 1. Number of Days between two Dates"
   ]
  },
  {
   "cell_type": "code",
   "execution_count": null,
   "metadata": {},
   "outputs": [
    {
     "name": "stdout",
     "output_type": "stream",
     "text": [
      "Difference in days: 2\n"
     ]
    }
   ],
   "source": [
    "## coding: utf-8 -*-\n",
    "# This script calculates the difference in days between two dates\n",
    "# given in the format \"MM-DD-YYYY HH:MM\" (e.g., \"04-01-2025 17:30\").\n",
    "# It uses the `datetime` module to parse the dates and convert them to Unix timestamps.\n",
    "# The difference in days is then calculated using the `daysBetween` function from the `Products.zms.standard` module.\n",
    "# The script is designed to be run in a Python environment where the `Products.zms` module is available.\n",
    "\n",
    "import datetime\n",
    "import time\n",
    "from Products.zms import standard\n",
    "\n",
    "\n",
    "def date_to_timestamp(date_str):\n",
    "    # Für das Format \"MM-DD-YYYY HH:MM\" (amerikanisches Format)\n",
    "    # Bei europäischem Format (DD-MM-YYYY) verwenden Sie \"%d-%m-%Y %H:%M\"\n",
    "    dt_obj = datetime.datetime.strptime(date_str, \"%m-%d-%Y %H:%M\")\n",
    "    return time.mktime(dt_obj.timetuple())\n",
    "\n",
    "# Example dates\n",
    "d0 = \"04-01-2025 17:30\"\n",
    "d1 = \"04-03-2025 01:14\"\n",
    "\n",
    "# Calculate the difference betweeen the dates as timestamps in days\n",
    "days_difference = standard.daysBetween(date_to_timestamp(d0), date_to_timestamp(d1))\n",
    "print(f\"Difference in days: {days_difference}\")"
   ]
  }
 ],
 "metadata": {
  "kernelspec": {
   "display_name": "vpy313",
   "language": "python",
   "name": "python3"
  },
  "language_info": {
   "codemirror_mode": {
    "name": "ipython",
    "version": 3
   },
   "file_extension": ".py",
   "mimetype": "text/x-python",
   "name": "python",
   "nbconvert_exporter": "python",
   "pygments_lexer": "ipython3",
   "version": "3.13.0"
  }
 },
 "nbformat": 4,
 "nbformat_minor": 2
}
