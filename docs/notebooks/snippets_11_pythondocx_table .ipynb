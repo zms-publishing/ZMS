{
 "cells": [
  {
   "cell_type": "markdown",
   "metadata": {},
   "source": [
    "# Complex Tables in python-docx\n",
    "\n",
    "How to transform html table with arbitrary colspans and rowspans into python-docx table?"
   ]
  },
  {
   "cell_type": "markdown",
   "metadata": {},
   "source": [
    "Transforming an HTML table with arbitrary colspans and rowspans into a python-docx table is a complex task. Here's a step-by-step plan:\n",
    "\n",
    "1. Parse the HTML table using a library like BeautifulSoup.\n",
    "2. Create a 2D list (list of lists) to represent the table. Each sublist represents a row, and each element in the sublist represents a cell. Initialize all cells with `None`.\n",
    "3. Iterate over the rows and cells in the HTML table. For each cell, find the first `None` element in the 2D list and set it to the cell content. If the cell has a colspan or rowspan, set the appropriate number of elements in the 2D list to the cell content.\n",
    "4. Create a python-docx table with the same number of rows and columns as the 2D list.\n",
    "5. Iterate over the cells in the 2D list. For each cell, if it's the same as the previous cell in the same row or column, merge the corresponding cells in the python-docx table.\n",
    "\n",
    "Here's a simplified version of the code:\n",
    "\n",
    "_Please note that this code assumes that all rows in the HTML table have the same number of cells, and that the colspan and rowspan attributes are used correctly. If this is not the case, you'll need to modify the code accordingly. Also, this code does not handle cell formatting. If you want to preserve the formatting of the cells, you'll need to add code to copy the formatting from the HTML table to the python-docx table._"
   ]
  },
  {
   "cell_type": "code",
   "execution_count": 1,
   "metadata": {},
   "outputs": [],
   "source": [
    "html = '''\n",
    "<table border=\"1\" cellpadding=\"1\" cellspacing=\"1\" style=\"width:500px\">\n",
    "\t<tbody>\n",
    "\t\t<tr>\n",
    "\t\t\t<td>test</td>\n",
    "\t\t\t<td colspan=\"2\" rowspan=\"1\">test</td>\n",
    "\t\t\t<td>&nbsp;</td>\n",
    "\t\t\t<td>&nbsp;</td>\n",
    "\t\t</tr>\n",
    "\t\t<tr>\n",
    "\t\t\t<td>&nbsp;</td>\n",
    "\t\t\t<td>&nbsp;</td>\n",
    "\t\t\t<td colspan=\"1\" rowspan=\"2\">test</td>\n",
    "\t\t\t<td>&nbsp;</td>\n",
    "\t\t\t<td>test</td>\n",
    "\t\t</tr>\n",
    "\t\t<tr>\n",
    "\t\t\t<td>&nbsp;</td>\n",
    "\t\t\t<td>&nbsp;</td>\n",
    "\t\t\t<td>&nbsp;</td>\n",
    "\t\t\t<td colspan=\"1\" rowspan=\"3\">test</td>\n",
    "\t\t</tr>\n",
    "\t\t<tr>\n",
    "\t\t\t<td>&nbsp;</td>\n",
    "\t\t\t<td>&nbsp;</td>\n",
    "\t\t\t<td>&nbsp;</td>\n",
    "\t\t\t<td>&nbsp;</td>\n",
    "\t\t</tr>\n",
    "\t\t<tr>\n",
    "\t\t\t<td>&nbsp;</td>\n",
    "\t\t\t<td>&nbsp;</td>\n",
    "\t\t\t<td>&nbsp;</td>\n",
    "\t\t\t<td>&nbsp;</td>\n",
    "\t\t</tr>\n",
    "\t</tbody>\n",
    "</table>\n",
    "'''\n"
   ]
  },
  {
   "cell_type": "code",
   "execution_count": 13,
   "metadata": {},
   "outputs": [],
   "source": [
    "from bs4 import BeautifulSoup\n",
    "from docx import Document\n",
    "import re\n",
    "\n",
    "# Parse the HTML table\n",
    "soup = BeautifulSoup(html, 'html.parser')\n",
    "table = soup.find('table')\n",
    "\n",
    "# Create a 2D list to represent the table\n",
    "rows = table.find_all('tr')\n",
    "cols_len = max([len(row.find_all(['td','th'])) for row in rows])\n",
    "table_list = [[None] * cols_len for _ in range(len(rows))]\n",
    "\n",
    "# Fill the 2D list with the cell contents\n",
    "for i, row in enumerate(rows):\n",
    "    for j, cell in enumerate(row.find_all(['td', 'th'])):\n",
    "        # Find the first None element in the 2D list\n",
    "        while table_list[i][j] is not None:\n",
    "            j += 1\n",
    "        # Set the appropriate number of elements to the cell content\n",
    "        for k in range(i, i + int(cell.get('rowspan', 1))):\n",
    "            for l in range(j, j + int(cell.get('colspan', 1))):\n",
    "                table_list[k][l] = '[%s,%s] %s'%(i,j,cell.text)\n",
    "\n",
    "# Create a python-docx table\n",
    "doc = Document()\n",
    "doc_table = doc.add_table(rows=len(table_list), cols=len(table_list[0]))\n",
    "\n",
    "# Fill the python-docx table with the cell contents and merge cells\n",
    "for i, row in enumerate(table_list):\n",
    "    for j, cell in enumerate(row):\n",
    "        doc_table.cell(i, j).text = cell\n",
    "        # Merge cells if they're the same as the previous cell\n",
    "        if i > 0 and cell == table_list[i - 1][j]:\n",
    "            doc_table.cell(i, j).text = ''\n",
    "            doc_table.cell(i - 1, j).merge(doc_table.cell(i, j))\n",
    "        if j > 0 and cell == row[j - 1]:\n",
    "            doc_table.cell(i, j).text = ''\n",
    "            doc_table.cell(i, j - 1).merge(doc_table.cell(i, j))\n",
    "\n",
    "        doc_table.cell(i, j).text = re.sub(r'\\[\\d,\\d\\] ','',doc_table.cell(i, j).text)\n",
    "\n",
    "# Save the document\n",
    "doc.save('test.docx')"
   ]
  },
  {
   "attachments": {
    "image-2.png": {
     "image/png": "[encoded data removed]"
    },
    "image.png": {
     "image/png": "[encoded data removed]"
    }
   },
   "cell_type": "markdown",
   "metadata": {},
   "source": [
    "![image.png](attachment:image.png)\n",
    "\n",
    "![image-2.png](attachment:image-2.png)"
   ]
  },
  {
   "cell_type": "markdown",
   "metadata": {},
   "source": [
    "## Comments:\n",
    "\n",
    "- The cell merging is done by comparing the current cell content (!) with the previous cell in the same row and column. If the cells are the same, the current cell is merged with the previous cell. If the cells have same content, there will false positive merges. Thats why I added cell coords as a prefix to the cell content to make it unique.\n",
    "- So, this prefix must be removed after the merging."
   ]
  }
 ],
 "metadata": {
  "kernelspec": {
   "display_name": "vpy38",
   "language": "python",
   "name": "python3"
  },
  "language_info": {
   "codemirror_mode": {
    "name": "ipython",
    "version": 3
   },
   "file_extension": ".py",
   "mimetype": "text/x-python",
   "name": "python",
   "nbconvert_exporter": "python",
   "pygments_lexer": "ipython3",
   "version": "3.8.10"
  }
 },
 "nbformat": 4,
 "nbformat_minor": 2
}
