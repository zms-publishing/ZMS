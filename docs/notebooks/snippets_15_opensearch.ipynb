{
 "cells": [
  {
   "attachments": {},
   "cell_type": "markdown",
   "metadata": {},
   "source": [
    "# Article Collections with Opensearch\n",
    "\n",
    "_OpenSearch Python Client Documentation: https://opensearch-project.github.io/opensearch-py/_"
   ]
  },
  {
   "cell_type": "code",
   "execution_count": 3,
   "metadata": {},
   "outputs": [],
   "source": [
    "import opensearchpy\n",
    "from opensearchpy import OpenSearch\n",
    "import json"
   ]
  },
  {
   "cell_type": "code",
   "execution_count": 4,
   "metadata": {},
   "outputs": [],
   "source": [
    "# Connecting to OpenSearch\n",
    "# https://opensearch.org/docs/latest/clients/python-low-level/#connecting-to-opensearch\n",
    "\n",
    "host = 'localhost'\n",
    "port = 9200\n",
    "auth = ('admin', 'admin') # For testing only. Don't store credentials in code.\n",
    "\n",
    "# Create the client with SSL/TLS enabled, but hostname verification disabled.\n",
    "client = OpenSearch(\n",
    "    hosts = [{'host': host, 'port': port}],\n",
    "    http_compress = False, # enables gzip compression for request bodies\n",
    "    http_auth = auth,\n",
    "    use_ssl = False,\n",
    "    verify_certs = False,\n",
    "    ssl_assert_hostname = False,\n",
    "    ssl_show_warn = False,\n",
    ")"
   ]
  },
  {
   "cell_type": "code",
   "execution_count": 18,
   "metadata": {},
   "outputs": [
    {
     "name": "stdout",
     "output_type": "stream",
     "text": [
      "Total hits: 7\n",
      "----------\n",
      "ID: uid:783386fc-bb6c-47bf-b298-440eec09976b:ger, Score: 2.458997\n",
      "Title: \"ZMS Download\"\n",
      "Descr: \"Dogubergren, no sea takimata sanctus est Lorem\"\n",
      "meta_id: \"ZMSFolder\"\n",
      "----------\n",
      "ID: uid:fbb75a7e-af64-4ee1-9bce-6c314f150dfc:ger, Score: 2.4589012\n",
      "Title: \"Professional Services\"\n",
      "Descr: \"The professional services of the ZMS development team support professional users from companies and institutions in the maximal using of the advantages of the ZMS framework.\"\n",
      "meta_id: \"ZMSFolder\"\n",
      "----------\n",
      "ID: uid:423bbfe6-b859-4357-b559-71231ddd485c:ger, Score: 2.4582415\n",
      "Title: \"ZMS Download\"\n",
      "Descr: \"Dogubergren, no sea takimata sanctus est Lorem\"\n",
      "meta_id: \"ZMSFolder\"\n",
      "----------\n",
      "ID: uid:db773d67-93e8-4def-9efc-74c4098023f0:ger, Score: 2.4581165\n",
      "Title: \"ZMS Academy\"\n",
      "Descr: \"Behind ZMS stands a conceptional approach for an efficient and low cost production of websites or web documents. You get to know this approach in detail in the courses of the ZMS academy.\"\n",
      "meta_id: \"ZMSFolder\"\n",
      "----------\n",
      "ID: uid:231ec510-bb35-440d-a54c-1c9c23b6f2b5:ger, Score: 2.457862\n",
      "Title: \"Details about the ZMS concept\"\n",
      "Descr: \"Aliquyam erat, sed diam voluptua. At vero eos et accusam et justo duo dolores et ea rebum. Stet clita kasd gubergren, no sea takimata sanctus est Lorem ipsu\"\n",
      "meta_id: \"ZMSFolder\"\n",
      "----------\n"
     ]
    }
   ],
   "source": [
    "# Searching for documents; client.search()\n",
    "# https://opensearch.org/docs/latest/clients/python-low-level/#searching-for-documents\n",
    "\n",
    "q = 'lorem'\n",
    "# Create a query that matches documents containing the term 'lorem' \n",
    "# in the 'standard_html' field and 'ZMSFolder' in the field meta_id\n",
    "query = {\n",
    "  'size': 5,\n",
    "  'query': {\n",
    "    'bool': {\n",
    "      'must': [\n",
    "        {\n",
    "          'multi_match': {\n",
    "            'query': q,\n",
    "            'fields': ['standard_html']\n",
    "          }\n",
    "        },\n",
    "        {\n",
    "          'term': {\n",
    "            'meta_id': 'ZMSFolder'\n",
    "          }\n",
    "        }\n",
    "      ]\n",
    "    }\n",
    "  }\n",
    "}\n",
    "\n",
    "\n",
    "# Use the query dictionary directly\n",
    "response = client.search( index = 'zmsdemo', body = json.dumps(query) )\n",
    "\n",
    "# Print hits\n",
    "if 'hits' in response and 'hits' in response['hits']:\n",
    "    # Print the total number of hits\n",
    "    print(f\"Total hits: {response['hits']['total']['value']}\")\n",
    "    print(10* '-')\n",
    "    hits = response['hits']['hits']\n",
    "    for hit in hits:\n",
    "        print(f\"ID: {hit['_id']}, Score: {hit['_score']}\")\n",
    "        # print(f\"Source: {json.dumps(hit['_source'], indent=2)}\")\n",
    "        print(f\"Title: {json.dumps(hit['_source']['title'], indent=2)}\")\n",
    "        print(f\"Descr: {json.dumps(hit['_source']['attr_dc_description'], indent=2)}\")\n",
    "        print(f\"meta_id: {json.dumps(hit['_source']['meta_id'], indent=2)}\")\n",
    "        print(10* '-')\n",
    "else:\n",
    "    print(\"No hits found.\")"
   ]
  }
 ],
 "metadata": {
  "kernelspec": {
   "display_name": "vpy313",
   "language": "python",
   "name": "python3"
  },
  "language_info": {
   "codemirror_mode": {
    "name": "ipython",
    "version": 3
   },
   "file_extension": ".py",
   "mimetype": "text/x-python",
   "name": "python",
   "nbconvert_exporter": "python",
   "pygments_lexer": "ipython3",
   "version": "3.13.3"
  }
 },
 "nbformat": 4,
 "nbformat_minor": 2
}
