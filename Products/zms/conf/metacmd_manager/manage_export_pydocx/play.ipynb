{
 "cells": [
  {
   "cell_type": "code",
   "execution_count": 2,
   "metadata": {},
   "outputs": [],
   "source": [
    "from docx import Document\n",
    "from docx.shared import Inches\n",
    "\n",
    "document = Document()\n",
    "\n",
    "# Add a paragraph\n",
    "paragraph = document.add_paragraph()\n",
    "paragraph.add_run().add_text('Hello, World!')\n",
    "\n",
    "# Add a run to the paragraph\n",
    "run = paragraph.add_run()\n",
    "\n",
    "# Add an inline image to the run\n",
    "run.add_picture('image.png', width=Inches(1.25))\n",
    "\n",
    "# Save the document\n",
    "document.save('output.docx')"
   ]
  }
 ],
 "metadata": {
  "kernelspec": {
   "display_name": "vpy313",
   "language": "python",
   "name": "python3"
  },
  "language_info": {
   "codemirror_mode": {
    "name": "ipython",
    "version": 3
   },
   "file_extension": ".py",
   "mimetype": "text/x-python",
   "name": "python",
   "nbconvert_exporter": "python",
   "pygments_lexer": "ipython3",
   "version": "3.13.0"
  }
 },
 "nbformat": 4,
 "nbformat_minor": 2
}
