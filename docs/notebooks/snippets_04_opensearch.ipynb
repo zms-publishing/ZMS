{
 "cells": [
  {
   "attachments": {},
   "cell_type": "markdown",
   "metadata": {},
   "source": [
    "# Opensearch\n",
    "\n",
    "## Low-level Python client `opensearch-py`\n",
    "\n",
    "_OpenSearch Python Client Documentation: https://opensearch-project.github.io/opensearch-py/_"
   ]
  },
  {
   "cell_type": "code",
   "execution_count": 1,
   "metadata": {},
   "outputs": [],
   "source": [
    "import opensearchpy\n",
    "from opensearchpy import OpenSearch\n",
    "import json"
   ]
  },
  {
   "cell_type": "code",
   "execution_count": 2,
   "metadata": {},
   "outputs": [],
   "source": [
    "# Connecting to OpenSearch\n",
    "# https://opensearch.org/docs/latest/clients/python-low-level/#connecting-to-opensearch\n",
    "\n",
    "host = 'localhost'\n",
    "port = 9200\n",
    "auth = ('admin', 'admin') # For testing only. Don't store credentials in code.\n",
    "\n",
    "# Create the client with SSL/TLS enabled, but hostname verification disabled.\n",
    "client = OpenSearch(\n",
    "    hosts = [{'host': host, 'port': port}],\n",
    "    http_compress = False, # enables gzip compression for request bodies\n",
    "    http_auth = auth,\n",
    "    use_ssl = True,\n",
    "    verify_certs = False,\n",
    "    ssl_assert_hostname = False,\n",
    "    ssl_show_warn = False,\n",
    ")"
   ]
  },
  {
   "cell_type": "code",
   "execution_count": 3,
   "metadata": {},
   "outputs": [
    {
     "name": "stdout",
     "output_type": "stream",
     "text": [
      "{\n",
      "  \"acknowledged\": true,\n",
      "  \"shards_acknowledged\": true,\n",
      "  \"index\": \"python-test-index\"\n",
      "}\n"
     ]
    }
   ],
   "source": [
    "# Creating an index: client.indices.create()\n",
    "# https://opensearch.org/docs/latest/clients/python-low-level/#creating-an-index\n",
    "\n",
    "index_name = 'python-test-index'\n",
    "index_body = {\n",
    "  'settings': {\n",
    "    'index': {\n",
    "      'number_of_shards': 2\n",
    "    }\n",
    "  }\n",
    "}\n",
    "\n",
    "try:\n",
    "  response = client.indices.create(index_name, body=index_body)\n",
    "except opensearchpy.exceptions.RequestError as e:\n",
    "  if 'resource_already_exists_exception' != e.error:\n",
    "    raise\n",
    "  else:\n",
    "    client.indices.delete(index_name)\n",
    "    response = client.indices.create(index_name, body=index_body)\n",
    "\n",
    "print(json.dumps(response,indent=2))"
   ]
  },
  {
   "cell_type": "code",
   "execution_count": 4,
   "metadata": {},
   "outputs": [
    {
     "name": "stdout",
     "output_type": "stream",
     "text": [
      "{\n",
      "  \"_index\": \"python-test-index\",\n",
      "  \"_id\": \"2\",\n",
      "  \"_version\": 1,\n",
      "  \"result\": \"created\",\n",
      "  \"forced_refresh\": true,\n",
      "  \"_shards\": {\n",
      "    \"total\": 2,\n",
      "    \"successful\": 1,\n",
      "    \"failed\": 0\n",
      "  },\n",
      "  \"_seq_no\": 1,\n",
      "  \"_primary_term\": 1\n",
      "}\n"
     ]
    }
   ],
   "source": [
    "# Indexing a document: client.index()\n",
    "# https://opensearch.org/docs/latest/clients/python-low-level/#indexing-a-document\n",
    "\n",
    "document1 = {\n",
    "  'title': 'Moneyball',\n",
    "  'director': 'Bennett Miller',\n",
    "  'year': '2011'\n",
    "}\n",
    "document2 = {\n",
    "  'title': 'Alien Ball',\n",
    "  'director': 'James Cameron',\n",
    "  'year': '1978'\n",
    "}\n",
    "\n",
    "response = client.index(\n",
    "  index = 'python-test-index',\n",
    "  body = document1,\n",
    "  id = '1',\n",
    "  refresh = True\n",
    ")\n",
    "response = client.index(\n",
    "  index = 'python-test-index',\n",
    "  body = document2,\n",
    "  id = '2',\n",
    "  refresh = True\n",
    ")\n",
    "\n",
    "print(json.dumps(response,indent=2))"
   ]
  },
  {
   "cell_type": "code",
   "execution_count": 5,
   "metadata": {},
   "outputs": [
    {
     "name": "stdout",
     "output_type": "stream",
     "text": [
      "{\n",
      "  \"took\": 40,\n",
      "  \"timed_out\": false,\n",
      "  \"_shards\": {\n",
      "    \"total\": 2,\n",
      "    \"successful\": 2,\n",
      "    \"skipped\": 0,\n",
      "    \"failed\": 0\n",
      "  },\n",
      "  \"hits\": {\n",
      "    \"total\": {\n",
      "      \"value\": 1,\n",
      "      \"relation\": \"eq\"\n",
      "    },\n",
      "    \"max_score\": 0.6931471,\n",
      "    \"hits\": [\n",
      "      {\n",
      "        \"_index\": \"python-test-index\",\n",
      "        \"_id\": \"2\",\n",
      "        \"_score\": 0.6931471,\n",
      "        \"_source\": {\n",
      "          \"title\": \"Alien Ball\",\n",
      "          \"director\": \"James Cameron\",\n",
      "          \"year\": \"1978\"\n",
      "        }\n",
      "      }\n",
      "    ]\n",
      "  }\n",
      "}\n"
     ]
    }
   ],
   "source": [
    "# Searching for documents; client.search()\n",
    "# https://opensearch.org/docs/latest/clients/python-low-level/#searching-for-documents\n",
    "\n",
    "q = 'CAMERON'\n",
    "query = {\n",
    "  'size': 5,\n",
    "  'query': {\n",
    "    'multi_match': {\n",
    "      'query': q,\n",
    "      'fields': ['title', 'director']\n",
    "    }\n",
    "  }\n",
    "}\n",
    "\n",
    "response = client.search(\n",
    "  body = query,\n",
    "  index = 'python-test-index'\n",
    ")\n",
    "\n",
    "print(json.dumps(response,indent=2))"
   ]
  },
  {
   "cell_type": "markdown",
   "metadata": {},
   "source": [
    "## Ingest APIs with `opensearch-py`\n",
    "\n",
    "https://opensearch.org/docs/latest/api-reference/ingest-apis/index/"
   ]
  },
  {
   "cell_type": "code",
   "execution_count": null,
   "metadata": {},
   "outputs": [],
   "source": [
    "import opensearchpy\n",
    "from opensearchpy import OpenSearch\n",
    "import json"
   ]
  },
  {
   "cell_type": "code",
   "execution_count": null,
   "metadata": {},
   "outputs": [],
   "source": [
    "# Connecting to OpenSearch\n",
    "# https://opensearch.org/docs/latest/clients/python-low-level/#connecting-to-opensearch\n",
    "\n",
    "host = 'localhost'\n",
    "port = 9200\n",
    "auth = ('admin', 'admin') # For testing only. Don't store credentials in code.\n",
    "\n",
    "# Create the client with SSL/TLS enabled, but hostname verification disabled.\n",
    "client = OpenSearch(\n",
    "    hosts = [{'host': host, 'port': port}],\n",
    "    http_compress = False, # enables gzip compression for request bodies\n",
    "    http_auth = auth,\n",
    "    use_ssl = True,\n",
    "    verify_certs = False,\n",
    "    ssl_assert_hostname = False,\n",
    "    ssl_show_warn = False,\n",
    ")"
   ]
  },
  {
   "cell_type": "code",
   "execution_count": null,
   "metadata": {},
   "outputs": [
    {
     "name": "stdout",
     "output_type": "stream",
     "text": [
      "{\n",
      "  \"acknowledged\": true,\n",
      "  \"shards_acknowledged\": true,\n",
      "  \"index\": \"python-test-index\"\n",
      "}\n"
     ]
    }
   ],
   "source": [
    "# Creating a pipline\n",
    "# https://opensearch.org/docs/latest/api-reference/ingest-apis/create-update-ingest/\n",
    "# https://kb.objectrocket.com/elasticsearch/how-to-use-the-attachment-plugin-to-index-files-in-elasticsearch-271\n",
    "\n",
    "pl_id = 'unibe_pipeline'\n",
    "pl_create_body = {\n",
    "  \"description\" : \"Field for processing file attachments\",\n",
    "  \"processors\" : [\n",
    "    {\n",
    "      \"attachment\" : {\n",
    "        \"field\": \"data\",\n",
    "        \"value\": \"value\"\n",
    "      }\n",
    "    }\n",
    "  ]\n",
    "}\n",
    "\n",
    "\n",
    "try:\n",
    "  response = client.indices.create(index_name, body=index_body)\n",
    "except opensearchpy.exceptions.RequestError as e:\n",
    "  if 'resource_already_exists_exception' != e.error:\n",
    "    raise\n",
    "  else:\n",
    "    client.indices.delete(index_name)\n",
    "    response = client.indices.create(index_name, body=index_body)\n",
    "\n",
    "print(json.dumps(response,indent=2))"
   ]
  }
 ],
 "metadata": {
  "kernelspec": {
   "display_name": "Python 3 (ipykernel)",
   "language": "python",
   "name": "python3"
  },
  "language_info": {
   "codemirror_mode": {
    "name": "ipython",
    "version": 3
   },
   "file_extension": ".py",
   "mimetype": "text/x-python",
   "name": "python",
   "nbconvert_exporter": "python",
   "pygments_lexer": "ipython3",
   "version": "3.8.13"
  }
 },
 "nbformat": 4,
 "nbformat_minor": 2
}
