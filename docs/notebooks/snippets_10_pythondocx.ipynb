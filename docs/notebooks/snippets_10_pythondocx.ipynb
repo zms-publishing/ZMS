{
 "cells": [
  {
   "cell_type": "markdown",
   "metadata": {},
   "source": [
    "# Normalize Headline Leveling\n",
    "\n",
    "Headline level supposed to be stricly hierarchical, but in practice, they are not always used that way. The following algorithm aims to normalize the headline levels for a correctly structured text.\n"
   ]
  },
  {
   "cell_type": "code",
   "execution_count": 5,
   "metadata": {},
   "outputs": [],
   "source": [
    "# Example lists of headline levels:\n",
    "example_lists = [\n",
    "\t[1,3,3,3,4,4,3,3,3,3,3,4,4,3,3,3,3,3],\n",
    "\t[1,3,3,4,4,1,3,4,3,1,2],\n",
    "\t[1,1,3,2,4,1,2,4,3,5,2,2],\n",
    "\t[2,1,3,3,5,3],\n",
    "\t[2,1,5],\n",
    "\t[3,2]\n",
    "]"
   ]
  },
  {
   "cell_type": "code",
   "execution_count": 7,
   "metadata": {},
   "outputs": [
    {
     "name": "stdout",
     "output_type": "stream",
     "text": [
      "[1, 3, 3, 3, 4, 4, 3, 3, 3, 3, 3, 4, 4, 3, 3, 3, 3, 3] ==>\n",
      "[1, 2, 2, 2, 3, 3, 3, 3, 3, 3, 3, 4, 4, 3, 3, 3, 3, 3]\n",
      "\n",
      "[1, 3, 3, 4, 4, 1, 3, 4, 3, 1, 2] ==>\n",
      "[1, 2, 2, 3, 3, 1, 2, 3, 3, 1, 2]\n",
      "\n",
      "[1, 1, 3, 2, 4, 1, 2, 4, 3, 5, 2, 2] ==>\n",
      "[1, 2, 2, 2, 3, 1, 2, 3, 3, 4, 2, 2]\n",
      "\n",
      "[2, 1, 3, 3, 5, 3] ==>\n",
      "[1, 1, 2, 2, 3, 3]\n",
      "\n",
      "[2, 1, 5] ==>\n",
      "[1, 1, 2]\n",
      "\n",
      "[3, 2] ==>\n",
      "[1, 2]\n",
      "\n"
     ]
    }
   ],
   "source": [
    "# Variant-1\n",
    "# Better for very volatile headline jumping\n",
    "def normalize_headline_levels(list1):\n",
    "\tlist2 = list1.copy()  # Create a copy of list1\n",
    "\tl = len(list2)\n",
    "\ti = 0\n",
    "\tn = 0\n",
    "\t# Start with headline level 1\n",
    "\tlist2[0] = 1\n",
    "\twhile i < l:\n",
    "\t\ti = (n == 0 or i > n) and i+1 or n + 1\n",
    "\t\tn = 0\n",
    "\t\tif i >= l:\n",
    "\t\t\tbreak\n",
    "\t\tv = list2[i]\n",
    "\t\tif v == list1[i-1]:\n",
    "\t\t\tcontinue\n",
    "\t\tif v - list1[i-1] > 1 or v - list2[i-1] > 1:\n",
    "\t\t\tlist2[i] = list1[i-1] + 1\n",
    "\t\t\tif v - list2[i-1] > 1:\n",
    "\t\t\t\tlist2[i] = list2[i-1] + 1\n",
    "\t\t\tn = i\n",
    "\t\tif n + 1 >= l:\n",
    "\t\t\tbreak\n",
    "\t\twhile list1[n+1] == list1[n]:\n",
    "\t\t\tn += 1\n",
    "\t\t\tif n + 1 >= l:\n",
    "\t\t\t\tbreak\n",
    "\t\t\tlist2[n] = list2[i]\n",
    "\treturn list2\n",
    "\n",
    "for i in range(0, len(example_lists)):\n",
    "\tprint('%s ==>\\n%s\\n'%(example_lists[i], normalize_headline_levels(example_lists[i])))"
   ]
  },
  {
   "cell_type": "code",
   "execution_count": 9,
   "metadata": {},
   "outputs": [
    {
     "name": "stdout",
     "output_type": "stream",
     "text": [
      "[1, 3, 3, 3, 4, 4, 3, 3, 3, 3, 3, 4, 4, 3, 3, 3, 3, 3] ==>\n",
      "[1, 2, 2, 2, 3, 3, 2, 2, 2, 2, 2, 3, 3, 2, 2, 2, 2, 2]\n",
      "\n",
      "[1, 3, 3, 4, 4, 1, 3, 4, 3, 1, 2] ==>\n",
      "[1, 2, 2, 3, 3, 2, 2, 3, 2, 2, 2]\n",
      "\n",
      "[1, 1, 3, 2, 4, 1, 2, 4, 3, 5, 2, 2] ==>\n",
      "[1, 2, 3, 2, 3, 2, 3, 4, 3, 4, 3, 3]\n",
      "\n",
      "[2, 1, 3, 3, 5, 3] ==>\n",
      "[1, 2, 3, 3, 4, 3]\n",
      "\n",
      "[2, 1, 5] ==>\n",
      "[1, 2, 3]\n",
      "\n",
      "[3, 2] ==>\n",
      "[1, 2]\n",
      "\n"
     ]
    }
   ],
   "source": [
    "# Variant-2:\n",
    "# Better for systmatical headline jumps\n",
    "# e.g. omitted h2 (see Test-Case 1)\n",
    "def normalize_headline_levels2(list1):\n",
    "\ts = []\n",
    "\tlist2 = [1]\n",
    "\tfor i in list1[1:]:\n",
    "\t\ti1 = i + 1\n",
    "\t\tif s and s[-1] == i1:\n",
    "\t\t\tpass\n",
    "\t\telif not s or s[-1] < i1:\n",
    "\t\t\ts.append(i1)\n",
    "\t\telif s:\n",
    "\t\t\twhile len(s) > 1 and s[-1] > i1:\n",
    "\t\t\t\ts = s[:-1]\n",
    "\t\tlist2.append(len(s) + 1)\n",
    "\treturn list2\n",
    "\n",
    "for i in range(0, len(example_lists)):\n",
    "\tprint('%s ==>\\n%s\\n'%(example_lists[i], normalize_headline_levels2(example_lists[i])))"
   ]
  }
 ],
 "metadata": {
  "kernelspec": {
   "display_name": "vpy38",
   "language": "python",
   "name": "python3"
  },
  "language_info": {
   "codemirror_mode": {
    "name": "ipython",
    "version": 3
   },
   "file_extension": ".py",
   "mimetype": "text/x-python",
   "name": "python",
   "nbconvert_exporter": "python",
   "pygments_lexer": "ipython3",
   "version": "3.8.13"
  }
 },
 "nbformat": 4,
 "nbformat_minor": 2
}
