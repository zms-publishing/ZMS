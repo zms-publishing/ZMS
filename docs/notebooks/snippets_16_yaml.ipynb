{
 "cells": [
  {
   "cell_type": "markdown",
   "metadata": {},
   "source": [
    "# YAML Model"
   ]
  },
  {
   "cell_type": "code",
   "execution_count": 33,
   "metadata": {},
   "outputs": [],
   "source": [
    "import ZODB\n",
    "from Products.Five.browser.tests.pages import SimpleView\n",
    "from Testing.makerequest import makerequest \t\t\t\t\t\t\t# makerequest(context)\n",
    "from Testing.ZopeTestCase.testZODBCompat import make_request_response \t# make_request_response()[1]\n",
    "from Acquisition import aq_get\n",
    "\n",
    "from Products.zms import standard\n",
    "from Products.zms import rest_api\n",
    "\n",
    "import os\n",
    "import re\n",
    "import shutil\n",
    "import tempfile\n",
    "import urllib\n",
    "import json\n",
    "import requests\n",
    "import yaml"
   ]
  },
  {
   "cell_type": "markdown",
   "metadata": {},
   "source": [
    "## Step-2: Open ZODB database"
   ]
  },
  {
   "cell_type": "code",
   "execution_count": null,
   "metadata": {},
   "outputs": [],
   "source": [
    "# db.close()\n",
    "# Create a ZODB connection to an existing ZODB database file\n",
    "# Important: Fit working directory to your Zope instance\n",
    "try:\n",
    "\twd = '/home/zope/instance/zms5_dev/var'\n",
    "\tdb = ZODB.DB(os.path.join(wd, 'Data.fs'))\n",
    "\tconn = db.open()\n",
    "\troot = conn.root\n",
    "\t###{'Application': <Application at >}\n",
    "except:\n",
    "\tdb.close()\n",
    "\tprint('Error: Database connection had to be closed before reopened.')"
   ]
  },
  {
   "cell_type": "markdown",
   "metadata": {},
   "source": [
    "## Step-3: Get ZODB Context"
   ]
  },
  {
   "cell_type": "code",
   "execution_count": 36,
   "metadata": {},
   "outputs": [],
   "source": [
    "# ZMS-Node /myzmsx/content\n",
    "# ##############################################\n",
    "context = root.Application.myzmsx.content \n",
    "# ##############################################\n",
    "\n",
    "# Add REQUEST to zmscontext object\n",
    "context = makerequest(context)\n",
    "# Add REQUEST vars\n",
    "context.REQUEST.environ.setdefault('SERVER_NAME','localhost')\n",
    "context.REQUEST.environ.setdefault('SERVER_PORT', '8092')\n",
    "context.REQUEST['URL' ]= 'http://localhost:8092'\n",
    "context.REQUEST.set('lang','ger')\n",
    "context.REQUEST.set('path_to_handle','')\n",
    "# Add RESPONSE\n",
    "context.REQUEST.set('RESPONSE', make_request_response()[1])\n",
    "\n",
    "zmscontext = context"
   ]
  },
  {
   "cell_type": "code",
   "execution_count": 95,
   "metadata": {},
   "outputs": [],
   "source": [
    "data = zmscontext.getMetaobjManager().getMetaobj('ZMSFlexbox')['Attrs'][2]"
   ]
  },
  {
   "cell_type": "code",
   "execution_count": 98,
   "metadata": {},
   "outputs": [
    {
     "data": {
      "text/plain": [
       "'@media only screen and (min-width: 576px) {\\n\\tbody:not(.zmi) .ZMSFlexbox:not(.contentEditable) {\\n\\t\\tdisplay: flex;\\n\\t\\tflex-direction: row;\\n\\t\\tjustify-content: space-between;\\n\\t}\\n\\tbody:not(.zmi) .ZMSFlexbox:not(.contentEditable) .ZMSFlexboxItem {\\n\\t\\tflex-direction: column;\\n\\t\\tbackground: rgba(0,0,0,.05);\\n\\t\\tpadding: 1rem;\\n\\t\\tmargin:1rem 0;\\n\\t}\\n\\tbody:not(.zmi) .ZMSFlexbox:not(.contentEditable) .ZMSFlexboxItem > * {\\n\\t\\tmargin:0 !important;\\n\\t\\tpadding:0 !important;\\n\\t}\\n\\tbody:not(.zmi) .ZMSFlexbox .ZMSFlexboxItem {\\n\\t\\tflex-basis:calc((100% / var(--data-itemcount)) - 3rem);\\n\\t}\\n\\tbody:not(.zmi) .ZMSFlexbox .ZMSFlexboxItem .ZMSGraphic .graphic,\\n\\tbody:not(.zmi) .ZMSFlexbox .ZMSFlexboxItem .ZMSGraphic .graphic img {\\n\\t\\twidth:100% !important;\\n\\t\\tmax-width:100% !important;\\n\\t}\\n\\tbody:not(.zmi) .ZMSFlexbox .ZMSFlexboxItem .ZMSGraphic .text {\\n\\t\\tpadding-top:1em;\\n\\t}\\n}\\n}'"
      ]
     },
     "execution_count": 98,
     "metadata": {},
     "output_type": "execute_result"
    }
   ],
   "source": [
    "data['custom']"
   ]
  },
  {
   "cell_type": "code",
   "execution_count": 99,
   "metadata": {},
   "outputs": [
    {
     "name": "stdout",
     "output_type": "stream",
     "text": [
      "custom: \"@media only screen and (min-width: 576px) {\\n\\tbody:not(.zmi) .ZMSFlexbox:not(.contentEditable)\\\n",
      "  \\ {\\n\\t\\tdisplay: flex;\\n\\t\\tflex-direction: row;\\n\\t\\tjustify-content: space-between;\\n\\\n",
      "  \\t}\\n\\tbody:not(.zmi) .ZMSFlexbox:not(.contentEditable) .ZMSFlexboxItem {\\n\\t\\t\\\n",
      "  flex-direction: column;\\n\\t\\tbackground: rgba(0,0,0,.05);\\n\\t\\tpadding: 1rem;\\n\\t\\\n",
      "  \\tmargin:1rem 0;\\n\\t}\\n\\tbody:not(.zmi) .ZMSFlexbox:not(.contentEditable) .ZMSFlexboxItem\\\n",
      "  \\ > * {\\n\\t\\tmargin:0 !important;\\n\\t\\tpadding:0 !important;\\n\\t}\\n\\tbody:not(.zmi)\\\n",
      "  \\ .ZMSFlexbox .ZMSFlexboxItem {\\n\\t\\tflex-basis:calc((100% / var(--data-itemcount))\\\n",
      "  \\ - 3rem);\\n\\t}\\n\\tbody:not(.zmi) .ZMSFlexbox .ZMSFlexboxItem .ZMSGraphic .graphic,\\n\\\n",
      "  \\tbody:not(.zmi) .ZMSFlexbox .ZMSFlexboxItem .ZMSGraphic .graphic img {\\n\\t\\twidth:100%\\\n",
      "  \\ !important;\\n\\t\\tmax-width:100% !important;\\n\\t}\\n\\tbody:not(.zmi) .ZMSFlexbox\\\n",
      "  \\ .ZMSFlexboxItem .ZMSGraphic .text {\\n\\t\\tpadding-top:1em;\\n\\t}\\n}\\n}\"\n",
      "default: ''\n",
      "id: f_css_defaults\n",
      "keys: []\n",
      "mandatory: 0\n",
      "multilang: 0\n",
      "name: CSS Default\n",
      "repetitive: 0\n",
      "type: constant\n",
      "\n"
     ]
    }
   ],
   "source": [
    "import yaml\n",
    "\n",
    "# Step 1: Define custom string type\n",
    "class LiteralStr(str): pass\n",
    "\n",
    "# Step 2: Register representer for both LiteralStr and str\n",
    "def literal_str_representer(dumper, data):\n",
    "    return dumper.represent_scalar('tag:yaml.org,2002:str', data, style='|')\n",
    "\n",
    "yaml.add_representer(LiteralStr, literal_str_representer)\n",
    "yaml.add_representer(str, yaml.representer.SafeRepresenter.represent_str)  # fallback for normal strings\n",
    "\n",
    "# Step 3: Decode escaped string into real multiline string\n",
    "raw_str = data['custom'].encode().decode('unicode_escape')\n",
    "\n",
    "# Step 4: Wrap with LiteralStr\n",
    "data['custom'] = LiteralStr(raw_str)\n",
    "\n",
    "# Step 5: Dump YAML\n",
    "yaml_output = yaml.dump(data, sort_keys=False, allow_unicode=True)\n",
    "print(yaml_output)\n"
   ]
  }
 ],
 "metadata": {
  "kernelspec": {
   "display_name": "vpy313",
   "language": "python",
   "name": "python3"
  },
  "language_info": {
   "codemirror_mode": {
    "name": "ipython",
    "version": 3
   },
   "file_extension": ".py",
   "mimetype": "text/x-python",
   "name": "python",
   "nbconvert_exporter": "python",
   "pygments_lexer": "ipython3",
   "version": "3.13.3"
  },
  "orig_nbformat": 2
 },
 "nbformat": 4,
 "nbformat_minor": 2
}
